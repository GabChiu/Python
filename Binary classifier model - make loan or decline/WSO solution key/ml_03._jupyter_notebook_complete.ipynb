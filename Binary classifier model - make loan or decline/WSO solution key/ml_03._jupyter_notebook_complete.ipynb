{
 "cells": [
  {
   "cell_type": "markdown",
   "metadata": {},
   "source": [
    "# Liquidity Predictor\n",
    "Welcome to the eighth lesson! This Jupyter Notebook file is meant to accompany **L08 - Liquidity Predictor.**"
   ]
  },
  {
   "cell_type": "markdown",
   "metadata": {},
   "source": [
    "Type your solutions for each exercise in the code cells below, and then press **Shift + Enter** to execute your code. Then, check the solution video to see how you did!"
   ]
  },
  {
   "cell_type": "markdown",
   "metadata": {},
   "source": [
    "### 1. Liquidity Predictor Introduction"
   ]
  },
  {
   "cell_type": "markdown",
   "metadata": {},
   "source": [
    "### 2. Data Exploration"
   ]
  },
  {
   "cell_type": "markdown",
   "metadata": {},
   "source": [
    "<font color = 'blue'> **EXERCISE 2.1** </font>"
   ]
  },
  {
   "cell_type": "code",
   "execution_count": 1,
   "metadata": {},
   "outputs": [
    {
     "data": {
      "text/html": [
       "<div>\n",
       "<style scoped>\n",
       "    .dataframe tbody tr th:only-of-type {\n",
       "        vertical-align: middle;\n",
       "    }\n",
       "\n",
       "    .dataframe tbody tr th {\n",
       "        vertical-align: top;\n",
       "    }\n",
       "\n",
       "    .dataframe thead th {\n",
       "        text-align: right;\n",
       "    }\n",
       "</style>\n",
       "<table border=\"1\" class=\"dataframe\">\n",
       "  <thead>\n",
       "    <tr style=\"text-align: right;\">\n",
       "      <th></th>\n",
       "      <th>available_liquidity</th>\n",
       "      <th>sp_score</th>\n",
       "      <th>market_cap</th>\n",
       "      <th>total_debt</th>\n",
       "      <th>ltm_capex</th>\n",
       "      <th>ltm_ebitda</th>\n",
       "      <th>ltm_fcf</th>\n",
       "      <th>ltm_revenue</th>\n",
       "    </tr>\n",
       "  </thead>\n",
       "  <tbody>\n",
       "    <tr>\n",
       "      <th>0</th>\n",
       "      <td>28694.04271</td>\n",
       "      <td>2</td>\n",
       "      <td>54856.1961</td>\n",
       "      <td>84628.0</td>\n",
       "      <td>-9262.0</td>\n",
       "      <td>21387.00032</td>\n",
       "      <td>9488.0</td>\n",
       "      <td>170315.0</td>\n",
       "    </tr>\n",
       "    <tr>\n",
       "      <th>1</th>\n",
       "      <td>24784.00051</td>\n",
       "      <td>7</td>\n",
       "      <td>209150.6401</td>\n",
       "      <td>57909.0</td>\n",
       "      <td>-2021.0</td>\n",
       "      <td>15161.00019</td>\n",
       "      <td>12105.0</td>\n",
       "      <td>37727.0</td>\n",
       "    </tr>\n",
       "    <tr>\n",
       "      <th>2</th>\n",
       "      <td>24142.00013</td>\n",
       "      <td>6</td>\n",
       "      <td>180108.3453</td>\n",
       "      <td>32970.0</td>\n",
       "      <td>-1817.0</td>\n",
       "      <td>15818.99981</td>\n",
       "      <td>12604.0</td>\n",
       "      <td>192592.0</td>\n",
       "    </tr>\n",
       "  </tbody>\n",
       "</table>\n",
       "</div>"
      ],
      "text/plain": [
       "   available_liquidity  sp_score   market_cap  total_debt  ltm_capex  \\\n",
       "0          28694.04271         2   54856.1961     84628.0    -9262.0   \n",
       "1          24784.00051         7  209150.6401     57909.0    -2021.0   \n",
       "2          24142.00013         6  180108.3453     32970.0    -1817.0   \n",
       "\n",
       "    ltm_ebitda  ltm_fcf  ltm_revenue  \n",
       "0  21387.00032   9488.0     170315.0  \n",
       "1  15161.00019  12105.0      37727.0  \n",
       "2  15818.99981  12604.0     192592.0  "
      ]
     },
     "execution_count": 1,
     "metadata": {},
     "output_type": "execute_result"
    }
   ],
   "source": [
    "import numpy as np\n",
    "import pandas as pd\n",
    "from matplotlib import pyplot as plt\n",
    "import seaborn as sns\n",
    "\n",
    "liquidity_data = pd.read_csv('liquidity_data.csv')\n",
    "liquidity_data.head(3)"
   ]
  },
  {
   "cell_type": "markdown",
   "metadata": {},
   "source": [
    "<font color = 'blue'> **EXERCISE 2.2** </font>"
   ]
  },
  {
   "cell_type": "code",
   "execution_count": 2,
   "metadata": {},
   "outputs": [
    {
     "data": {
      "text/html": [
       "<div>\n",
       "<style scoped>\n",
       "    .dataframe tbody tr th:only-of-type {\n",
       "        vertical-align: middle;\n",
       "    }\n",
       "\n",
       "    .dataframe tbody tr th {\n",
       "        vertical-align: top;\n",
       "    }\n",
       "\n",
       "    .dataframe thead th {\n",
       "        text-align: right;\n",
       "    }\n",
       "</style>\n",
       "<table border=\"1\" class=\"dataframe\">\n",
       "  <thead>\n",
       "    <tr style=\"text-align: right;\">\n",
       "      <th></th>\n",
       "      <th>available_liquidity</th>\n",
       "      <th>sp_score</th>\n",
       "      <th>market_cap</th>\n",
       "      <th>total_debt</th>\n",
       "      <th>ltm_capex</th>\n",
       "      <th>ltm_ebitda</th>\n",
       "      <th>ltm_fcf</th>\n",
       "      <th>ltm_revenue</th>\n",
       "    </tr>\n",
       "  </thead>\n",
       "  <tbody>\n",
       "    <tr>\n",
       "      <th>count</th>\n",
       "      <td>802.000000</td>\n",
       "      <td>802.000000</td>\n",
       "      <td>802.000000</td>\n",
       "      <td>802.000000</td>\n",
       "      <td>802.00000</td>\n",
       "      <td>802.000000</td>\n",
       "      <td>802.000000</td>\n",
       "      <td>802.000000</td>\n",
       "    </tr>\n",
       "    <tr>\n",
       "      <th>mean</th>\n",
       "      <td>3884.952199</td>\n",
       "      <td>3.017456</td>\n",
       "      <td>41645.089870</td>\n",
       "      <td>9040.720589</td>\n",
       "      <td>-1200.91799</td>\n",
       "      <td>3455.752891</td>\n",
       "      <td>1772.335973</td>\n",
       "      <td>20420.383638</td>\n",
       "    </tr>\n",
       "    <tr>\n",
       "      <th>std</th>\n",
       "      <td>4267.893247</td>\n",
       "      <td>1.851461</td>\n",
       "      <td>74046.522440</td>\n",
       "      <td>12112.161513</td>\n",
       "      <td>2066.29159</td>\n",
       "      <td>5679.466199</td>\n",
       "      <td>4207.345101</td>\n",
       "      <td>39483.422972</td>\n",
       "    </tr>\n",
       "    <tr>\n",
       "      <th>min</th>\n",
       "      <td>267.000000</td>\n",
       "      <td>0.000000</td>\n",
       "      <td>4282.810112</td>\n",
       "      <td>0.000000</td>\n",
       "      <td>-15858.00000</td>\n",
       "      <td>-6530.000000</td>\n",
       "      <td>-4888.000000</td>\n",
       "      <td>503.586000</td>\n",
       "    </tr>\n",
       "    <tr>\n",
       "      <th>25%</th>\n",
       "      <td>1288.328992</td>\n",
       "      <td>2.000000</td>\n",
       "      <td>10082.091010</td>\n",
       "      <td>2125.297000</td>\n",
       "      <td>-1241.00000</td>\n",
       "      <td>936.200000</td>\n",
       "      <td>232.923000</td>\n",
       "      <td>3791.525000</td>\n",
       "    </tr>\n",
       "    <tr>\n",
       "      <th>50%</th>\n",
       "      <td>2395.700000</td>\n",
       "      <td>3.000000</td>\n",
       "      <td>19349.403650</td>\n",
       "      <td>4562.000000</td>\n",
       "      <td>-512.00000</td>\n",
       "      <td>1695.700032</td>\n",
       "      <td>682.110000</td>\n",
       "      <td>8587.166000</td>\n",
       "    </tr>\n",
       "    <tr>\n",
       "      <th>75%</th>\n",
       "      <td>4512.458596</td>\n",
       "      <td>4.000000</td>\n",
       "      <td>41154.826240</td>\n",
       "      <td>10478.000000</td>\n",
       "      <td>-190.00000</td>\n",
       "      <td>3706.000000</td>\n",
       "      <td>1788.000000</td>\n",
       "      <td>18816.000000</td>\n",
       "    </tr>\n",
       "    <tr>\n",
       "      <th>max</th>\n",
       "      <td>28694.042710</td>\n",
       "      <td>10.000000</td>\n",
       "      <td>777070.706700</td>\n",
       "      <td>87032.000000</td>\n",
       "      <td>-5.04900</td>\n",
       "      <td>69715.000320</td>\n",
       "      <td>53244.000000</td>\n",
       "      <td>487511.000000</td>\n",
       "    </tr>\n",
       "  </tbody>\n",
       "</table>\n",
       "</div>"
      ],
      "text/plain": [
       "       available_liquidity    sp_score     market_cap    total_debt  \\\n",
       "count           802.000000  802.000000     802.000000    802.000000   \n",
       "mean           3884.952199    3.017456   41645.089870   9040.720589   \n",
       "std            4267.893247    1.851461   74046.522440  12112.161513   \n",
       "min             267.000000    0.000000    4282.810112      0.000000   \n",
       "25%            1288.328992    2.000000   10082.091010   2125.297000   \n",
       "50%            2395.700000    3.000000   19349.403650   4562.000000   \n",
       "75%            4512.458596    4.000000   41154.826240  10478.000000   \n",
       "max           28694.042710   10.000000  777070.706700  87032.000000   \n",
       "\n",
       "         ltm_capex    ltm_ebitda       ltm_fcf    ltm_revenue  \n",
       "count    802.00000    802.000000    802.000000     802.000000  \n",
       "mean   -1200.91799   3455.752891   1772.335973   20420.383638  \n",
       "std     2066.29159   5679.466199   4207.345101   39483.422972  \n",
       "min   -15858.00000  -6530.000000  -4888.000000     503.586000  \n",
       "25%    -1241.00000    936.200000    232.923000    3791.525000  \n",
       "50%     -512.00000   1695.700032    682.110000    8587.166000  \n",
       "75%     -190.00000   3706.000000   1788.000000   18816.000000  \n",
       "max       -5.04900  69715.000320  53244.000000  487511.000000  "
      ]
     },
     "execution_count": 2,
     "metadata": {},
     "output_type": "execute_result"
    }
   ],
   "source": [
    "liquidity_data.describe()"
   ]
  },
  {
   "cell_type": "markdown",
   "metadata": {},
   "source": [
    "### 3. Splitting Data"
   ]
  },
  {
   "cell_type": "markdown",
   "metadata": {},
   "source": [
    "**Lesson Workspace**"
   ]
  },
  {
   "cell_type": "code",
   "execution_count": 3,
   "metadata": {},
   "outputs": [],
   "source": [
    "# Import train_test_split() from Scikit Learn's model_selection module\n",
    "from sklearn.model_selection import train_test_split\n"
   ]
  },
  {
   "cell_type": "markdown",
   "metadata": {},
   "source": [
    "<font color = 'blue'> **EXERCISE 3.1** </font>"
   ]
  },
  {
   "cell_type": "code",
   "execution_count": 4,
   "metadata": {},
   "outputs": [],
   "source": [
    "# Define a Series named \"target\" containing only the target variable\n",
    "target = liquidity_data.available_liquidity\n",
    "\n",
    "# Define a DataFrame named \"inputs\" containing only the input features\n",
    "inputs = liquidity_data.drop('available_liquidity', axis=1)\n"
   ]
  },
  {
   "cell_type": "code",
   "execution_count": 5,
   "metadata": {},
   "outputs": [
    {
     "data": {
      "text/plain": [
       "0    28694.04271\n",
       "Name: available_liquidity, dtype: float64"
      ]
     },
     "execution_count": 5,
     "metadata": {},
     "output_type": "execute_result"
    }
   ],
   "source": [
    "# Display the first row of target\n",
    "target.head(1)\n"
   ]
  },
  {
   "cell_type": "code",
   "execution_count": 6,
   "metadata": {},
   "outputs": [
    {
     "data": {
      "text/html": [
       "<div>\n",
       "<style scoped>\n",
       "    .dataframe tbody tr th:only-of-type {\n",
       "        vertical-align: middle;\n",
       "    }\n",
       "\n",
       "    .dataframe tbody tr th {\n",
       "        vertical-align: top;\n",
       "    }\n",
       "\n",
       "    .dataframe thead th {\n",
       "        text-align: right;\n",
       "    }\n",
       "</style>\n",
       "<table border=\"1\" class=\"dataframe\">\n",
       "  <thead>\n",
       "    <tr style=\"text-align: right;\">\n",
       "      <th></th>\n",
       "      <th>sp_score</th>\n",
       "      <th>market_cap</th>\n",
       "      <th>total_debt</th>\n",
       "      <th>ltm_capex</th>\n",
       "      <th>ltm_ebitda</th>\n",
       "      <th>ltm_fcf</th>\n",
       "      <th>ltm_revenue</th>\n",
       "    </tr>\n",
       "  </thead>\n",
       "  <tbody>\n",
       "    <tr>\n",
       "      <th>0</th>\n",
       "      <td>2</td>\n",
       "      <td>54856.1961</td>\n",
       "      <td>84628.0</td>\n",
       "      <td>-9262.0</td>\n",
       "      <td>21387.00032</td>\n",
       "      <td>9488.0</td>\n",
       "      <td>170315.0</td>\n",
       "    </tr>\n",
       "  </tbody>\n",
       "</table>\n",
       "</div>"
      ],
      "text/plain": [
       "   sp_score  market_cap  total_debt  ltm_capex   ltm_ebitda  ltm_fcf  \\\n",
       "0         2  54856.1961     84628.0    -9262.0  21387.00032   9488.0   \n",
       "\n",
       "   ltm_revenue  \n",
       "0     170315.0  "
      ]
     },
     "execution_count": 6,
     "metadata": {},
     "output_type": "execute_result"
    }
   ],
   "source": [
    "# Display the first row of inputs\n",
    "inputs.head(1)\n"
   ]
  },
  {
   "cell_type": "markdown",
   "metadata": {},
   "source": [
    "**Lesson Workspace**"
   ]
  },
  {
   "cell_type": "code",
   "execution_count": 7,
   "metadata": {},
   "outputs": [],
   "source": [
    "# Split your data and pass the results to a new object named \"results\"\n",
    "results = train_test_split(inputs, target, test_size=0.2, random_state=1)\n"
   ]
  },
  {
   "cell_type": "code",
   "execution_count": 8,
   "metadata": {},
   "outputs": [
    {
     "name": "stdout",
     "output_type": "stream",
     "text": [
      "<class 'list'>\n",
      "4\n",
      "---\n",
      "(641, 7)\n",
      "(161, 7)\n",
      "(641,)\n",
      "(161,)\n"
     ]
    }
   ],
   "source": [
    "# Print the type() and len() of results\n",
    "print(type(results))\n",
    "print(len(results))\n",
    "print('---')\n",
    "\n",
    "# For each item in results, print the item's dimensions\n",
    "for item in results :\n",
    "    print(item.shape)\n"
   ]
  },
  {
   "cell_type": "markdown",
   "metadata": {},
   "source": [
    "<font color = 'blue'> **EXERCISE 3.2** </font>"
   ]
  },
  {
   "cell_type": "code",
   "execution_count": 9,
   "metadata": {},
   "outputs": [
    {
     "name": "stdout",
     "output_type": "stream",
     "text": [
      "(641, 7)\n",
      "(161, 7)\n",
      "(641,)\n",
      "(161,)\n"
     ]
    }
   ],
   "source": [
    "input_train, input_test, target_train, target_test = results\n",
    "print(input_train.shape)\n",
    "print(input_test.shape)\n",
    "print(target_train.shape)\n",
    "print(target_test.shape)"
   ]
  },
  {
   "cell_type": "markdown",
   "metadata": {},
   "source": [
    "**Lesson Workspace**"
   ]
  },
  {
   "cell_type": "code",
   "execution_count": 10,
   "metadata": {},
   "outputs": [
    {
     "data": {
      "text/html": [
       "<div>\n",
       "<style scoped>\n",
       "    .dataframe tbody tr th:only-of-type {\n",
       "        vertical-align: middle;\n",
       "    }\n",
       "\n",
       "    .dataframe tbody tr th {\n",
       "        vertical-align: top;\n",
       "    }\n",
       "\n",
       "    .dataframe thead th {\n",
       "        text-align: right;\n",
       "    }\n",
       "</style>\n",
       "<table border=\"1\" class=\"dataframe\">\n",
       "  <thead>\n",
       "    <tr style=\"text-align: right;\">\n",
       "      <th></th>\n",
       "      <th>sp_score</th>\n",
       "      <th>market_cap</th>\n",
       "      <th>total_debt</th>\n",
       "      <th>ltm_capex</th>\n",
       "      <th>ltm_ebitda</th>\n",
       "      <th>ltm_fcf</th>\n",
       "      <th>ltm_revenue</th>\n",
       "    </tr>\n",
       "  </thead>\n",
       "  <tbody>\n",
       "    <tr>\n",
       "      <th>309</th>\n",
       "      <td>3</td>\n",
       "      <td>16764.94643</td>\n",
       "      <td>1887.019</td>\n",
       "      <td>-483.002</td>\n",
       "      <td>1905.83296</td>\n",
       "      <td>859.71</td>\n",
       "      <td>8653.205</td>\n",
       "    </tr>\n",
       "  </tbody>\n",
       "</table>\n",
       "</div>"
      ],
      "text/plain": [
       "     sp_score   market_cap  total_debt  ltm_capex  ltm_ebitda  ltm_fcf  \\\n",
       "309         3  16764.94643    1887.019   -483.002  1905.83296   859.71   \n",
       "\n",
       "     ltm_revenue  \n",
       "309     8653.205  "
      ]
     },
     "execution_count": 10,
     "metadata": {},
     "output_type": "execute_result"
    }
   ],
   "source": [
    "input_train.head(1)"
   ]
  },
  {
   "cell_type": "code",
   "execution_count": 11,
   "metadata": {},
   "outputs": [
    {
     "data": {
      "text/html": [
       "<div>\n",
       "<style scoped>\n",
       "    .dataframe tbody tr th:only-of-type {\n",
       "        vertical-align: middle;\n",
       "    }\n",
       "\n",
       "    .dataframe tbody tr th {\n",
       "        vertical-align: top;\n",
       "    }\n",
       "\n",
       "    .dataframe thead th {\n",
       "        text-align: right;\n",
       "    }\n",
       "</style>\n",
       "<table border=\"1\" class=\"dataframe\">\n",
       "  <thead>\n",
       "    <tr style=\"text-align: right;\">\n",
       "      <th></th>\n",
       "      <th>sp_score</th>\n",
       "      <th>market_cap</th>\n",
       "      <th>total_debt</th>\n",
       "      <th>ltm_capex</th>\n",
       "      <th>ltm_ebitda</th>\n",
       "      <th>ltm_fcf</th>\n",
       "      <th>ltm_revenue</th>\n",
       "    </tr>\n",
       "  </thead>\n",
       "  <tbody>\n",
       "    <tr>\n",
       "      <th>8</th>\n",
       "      <td>8</td>\n",
       "      <td>172479.4798</td>\n",
       "      <td>24842.0</td>\n",
       "      <td>-1674.0</td>\n",
       "      <td>10841.00006</td>\n",
       "      <td>6830.0</td>\n",
       "      <td>39929.0</td>\n",
       "    </tr>\n",
       "  </tbody>\n",
       "</table>\n",
       "</div>"
      ],
      "text/plain": [
       "   sp_score   market_cap  total_debt  ltm_capex   ltm_ebitda  ltm_fcf  \\\n",
       "8         8  172479.4798     24842.0    -1674.0  10841.00006   6830.0   \n",
       "\n",
       "   ltm_revenue  \n",
       "8      39929.0  "
      ]
     },
     "execution_count": 11,
     "metadata": {},
     "output_type": "execute_result"
    }
   ],
   "source": [
    "input_test.head(1)"
   ]
  },
  {
   "cell_type": "code",
   "execution_count": 12,
   "metadata": {},
   "outputs": [
    {
     "data": {
      "text/plain": [
       "309    1227.539\n",
       "Name: available_liquidity, dtype: float64"
      ]
     },
     "execution_count": 12,
     "metadata": {},
     "output_type": "execute_result"
    }
   ],
   "source": [
    "target_train.head(1)"
   ]
  },
  {
   "cell_type": "code",
   "execution_count": 13,
   "metadata": {},
   "outputs": [
    {
     "data": {
      "text/plain": [
       "8    17708.00026\n",
       "Name: available_liquidity, dtype: float64"
      ]
     },
     "execution_count": 13,
     "metadata": {},
     "output_type": "execute_result"
    }
   ],
   "source": [
    "target_test.head(1)"
   ]
  },
  {
   "cell_type": "markdown",
   "metadata": {},
   "source": [
    "### 4. Model Pipelines"
   ]
  },
  {
   "cell_type": "markdown",
   "metadata": {},
   "source": [
    "**Lesson Workspace**"
   ]
  },
  {
   "cell_type": "code",
   "execution_count": 14,
   "metadata": {},
   "outputs": [],
   "source": [
    "# Import required functions from Scikit-Learn\n",
    "from sklearn.linear_model import Lasso, Ridge\n",
    "from sklearn.pipeline import make_pipeline\n",
    "from sklearn.preprocessing import StandardScaler\n",
    "\n",
    "# Create pipelines dictionary with model pipelines for Lasso and Ridge\n",
    "pipelines = {\n",
    "    'lasso' : make_pipeline(StandardScaler(), Lasso(random_state = 1)),\n",
    "    'ridge' : make_pipeline(StandardScaler(), Ridge(random_state = 1)),\n",
    "}\n"
   ]
  },
  {
   "cell_type": "code",
   "execution_count": 15,
   "metadata": {},
   "outputs": [],
   "source": [
    "# Add pipeline for Elastic Net\n",
    "from sklearn.linear_model import ElasticNet\n",
    "\n",
    "pipelines['enet'] = make_pipeline(StandardScaler(), ElasticNet(random_state = 1))\n"
   ]
  },
  {
   "cell_type": "markdown",
   "metadata": {},
   "source": [
    "<font color = 'blue'> **EXERCISE 4.1** </font>"
   ]
  },
  {
   "cell_type": "code",
   "execution_count": 16,
   "metadata": {},
   "outputs": [],
   "source": [
    "from sklearn.ensemble import RandomForestRegressor, GradientBoostingRegressor\n",
    "\n",
    "pipelines['rf'] = make_pipeline(StandardScaler(), RandomForestRegressor(random_state = 1))\n",
    "pipelines['gb'] = make_pipeline(StandardScaler(), GradientBoostingRegressor(random_state = 1))"
   ]
  },
  {
   "cell_type": "markdown",
   "metadata": {},
   "source": [
    "**Lesson Workspace**"
   ]
  },
  {
   "cell_type": "code",
   "execution_count": 17,
   "metadata": {},
   "outputs": [
    {
     "name": "stdout",
     "output_type": "stream",
     "text": [
      "lasso <class 'sklearn.pipeline.Pipeline'>\n",
      "ridge <class 'sklearn.pipeline.Pipeline'>\n",
      "enet <class 'sklearn.pipeline.Pipeline'>\n",
      "rf <class 'sklearn.pipeline.Pipeline'>\n",
      "gb <class 'sklearn.pipeline.Pipeline'>\n"
     ]
    }
   ],
   "source": [
    "# Run this cell to verify that all 5 pipelines are properly defined\n",
    "for key, value in pipelines.items():\n",
    "    print(key, type(value))"
   ]
  },
  {
   "cell_type": "markdown",
   "metadata": {},
   "source": [
    "### 5. Hyperparameter Tuning"
   ]
  },
  {
   "cell_type": "markdown",
   "metadata": {},
   "source": [
    "**Lesson Workspace**"
   ]
  },
  {
   "cell_type": "code",
   "execution_count": 18,
   "metadata": {},
   "outputs": [],
   "source": [
    "# Create a hyperparameter grid for Lasso\n",
    "lasso_hyperparameters = {\n",
    "    'lasso__alpha' : [0.01, 0.05, 0.1, 0.5, 1, 5]\n",
    "}\n"
   ]
  },
  {
   "cell_type": "markdown",
   "metadata": {},
   "source": [
    "<font color = 'blue'> **EXERCISE 5.1** </font>"
   ]
  },
  {
   "cell_type": "code",
   "execution_count": 19,
   "metadata": {},
   "outputs": [],
   "source": [
    "# Create a hyperparameter grid for Ridge\n",
    "ridge_hyperparameters = {\n",
    "    'ridge__alpha' : [0.01, 0.05, 0.1, 0.5, 1, 5]\n",
    "}\n",
    "\n",
    "# Create a hyperparameter grid for Elastic Net\n",
    "enet_hyperparameters = {\n",
    "    'elasticnet__alpha' : [0.01, 0.05, 0.1, 0.5, 1, 5],\n",
    "    'elasticnet__l1_ratio' : [0.1, 0.3, 0.5, 0.7, 0.9]\n",
    "}\n"
   ]
  },
  {
   "cell_type": "markdown",
   "metadata": {},
   "source": [
    "<font color = 'blue'> **EXERCISE 5.2** </font>"
   ]
  },
  {
   "cell_type": "code",
   "execution_count": 20,
   "metadata": {},
   "outputs": [],
   "source": [
    "# Create a hyperparameter grid for Random Forest\n",
    "rf_hyperparameters = {\n",
    "    'randomforestregressor__n_estimators' : [100, 200],\n",
    "    'randomforestregressor__max_features' : ['auto', 0.3, 0.6]\n",
    "}\n",
    "\n",
    "# Create a hyperparameter grid for Gradient Booster\n",
    "gb_hyperparameters = {\n",
    "    'gradientboostingregressor__n_estimators' : [100, 200],\n",
    "    'gradientboostingregressor__learning_rate' : [0.05, 0.1, 0.2],\n",
    "    'gradientboostingregressor__max_depth' : [1, 3, 5]\n",
    "}\n"
   ]
  },
  {
   "cell_type": "markdown",
   "metadata": {},
   "source": [
    "**Lesson Workspace**"
   ]
  },
  {
   "cell_type": "code",
   "execution_count": 21,
   "metadata": {},
   "outputs": [],
   "source": [
    "# Create the hyperparameter_grids dictionary\n",
    "hyperparameter_grids = {\n",
    "    'lasso' : lasso_hyperparameters,\n",
    "    'ridge' : ridge_hyperparameters,\n",
    "    'enet' : enet_hyperparameters,\n",
    "    'rf' : rf_hyperparameters,\n",
    "    'gb' : gb_hyperparameters\n",
    "}\n"
   ]
  },
  {
   "cell_type": "code",
   "execution_count": 22,
   "metadata": {},
   "outputs": [
    {
     "name": "stdout",
     "output_type": "stream",
     "text": [
      "enet was found, and it is a grid.\n",
      "gb was found, and it is a grid.\n",
      "ridge was found, and it is a grid.\n",
      "rf was found, and it is a grid.\n",
      "lasso was found, and it is a grid.\n"
     ]
    }
   ],
   "source": [
    "# Run the code below to make sure everything is set up correctly\n",
    "for key in ['enet', 'gb', 'ridge', 'rf', 'lasso']:\n",
    "    if key in hyperparameter_grids:\n",
    "        if type(hyperparameter_grids[key]) is dict:\n",
    "            print( key, 'was found, and it is a grid.' )\n",
    "        else:\n",
    "            print( key, 'was found, but it is not a grid.' )\n",
    "    else:\n",
    "        print( key, 'was not found')"
   ]
  },
  {
   "cell_type": "markdown",
   "metadata": {},
   "source": [
    "### 6. Cross Validation"
   ]
  },
  {
   "cell_type": "markdown",
   "metadata": {},
   "source": [
    "**Lesson Workspace**"
   ]
  },
  {
   "cell_type": "code",
   "execution_count": 23,
   "metadata": {},
   "outputs": [],
   "source": [
    "# Import GridSearchCV\n",
    "from sklearn.model_selection import GridSearchCV\n",
    "\n",
    "untrained_lasso_model = GridSearchCV(pipelines['lasso'], hyperparameter_grids['lasso'], cv=5)\n"
   ]
  },
  {
   "cell_type": "markdown",
   "metadata": {},
   "source": [
    "<font color = 'blue'> **EXERCISE 6.1** </font>"
   ]
  },
  {
   "cell_type": "code",
   "execution_count": 24,
   "metadata": {},
   "outputs": [
    {
     "data": {
      "text/plain": [
       "dict_keys(['lasso', 'ridge', 'enet', 'rf', 'gb'])"
      ]
     },
     "execution_count": 24,
     "metadata": {},
     "output_type": "execute_result"
    }
   ],
   "source": [
    "models = {}\n",
    "\n",
    "for key in pipelines.keys() :\n",
    "    models[key] = GridSearchCV(pipelines[key], hyperparameter_grids[key], cv=5)\n",
    "    \n",
    "models.keys()"
   ]
  },
  {
   "cell_type": "markdown",
   "metadata": {},
   "source": [
    "<font color = 'blue'> **EXERCISE 6.2** </font>"
   ]
  },
  {
   "cell_type": "code",
   "execution_count": 25,
   "metadata": {},
   "outputs": [
    {
     "name": "stdout",
     "output_type": "stream",
     "text": [
      "lasso  is trained and tuned.\n",
      "ridge  is trained and tuned.\n",
      "enet  is trained and tuned.\n",
      "rf  is trained and tuned.\n",
      "gb  is trained and tuned.\n"
     ]
    }
   ],
   "source": [
    "for key in models.keys() :\n",
    "    models[key].fit(input_train, target_train)\n",
    "    print(key, ' is trained and tuned.')"
   ]
  },
  {
   "cell_type": "markdown",
   "metadata": {},
   "source": [
    "### 7. Selecting a Winning Model"
   ]
  },
  {
   "cell_type": "markdown",
   "metadata": {},
   "source": [
    "**Lesson Workspace**"
   ]
  },
  {
   "cell_type": "code",
   "execution_count": 26,
   "metadata": {},
   "outputs": [],
   "source": [
    "# Import the r-squared and mean absolute error metrics\n",
    "from sklearn.metrics import r2_score, mean_absolute_error\n"
   ]
  },
  {
   "cell_type": "markdown",
   "metadata": {},
   "source": [
    "<font color = 'blue'> **EXERCISE 7.1** </font>"
   ]
  },
  {
   "cell_type": "code",
   "execution_count": 27,
   "metadata": {},
   "outputs": [
    {
     "name": "stdout",
     "output_type": "stream",
     "text": [
      "lasso\n",
      "R-Squared:  0.498\n",
      "MAE:  1710.083\n",
      "---\n",
      "ridge\n",
      "R-Squared:  0.5\n",
      "MAE:  1708.062\n",
      "---\n",
      "enet\n",
      "R-Squared:  0.501\n",
      "MAE:  1706.04\n",
      "---\n",
      "rf\n",
      "R-Squared:  0.852\n",
      "MAE:  934.706\n",
      "---\n",
      "gb\n",
      "R-Squared:  0.855\n",
      "MAE:  588.249\n",
      "---\n"
     ]
    }
   ],
   "source": [
    "for key in models.keys():\n",
    "    preds = models[key].predict(input_test)\n",
    "    print(key)\n",
    "    print('R-Squared: ', round(r2_score(target_test, preds), 3))\n",
    "    print('MAE: ', round(mean_absolute_error(target_test, preds), 3))\n",
    "    print('---')"
   ]
  },
  {
   "cell_type": "markdown",
   "metadata": {},
   "source": [
    "<font color = 'blue'> **EXERCISE 7.2** </font>"
   ]
  },
  {
   "cell_type": "code",
   "execution_count": 28,
   "metadata": {},
   "outputs": [
    {
     "data": {
      "image/png": "[encoded data removed]",
      "text/plain": [
       "<Figure size 432x288 with 1 Axes>"
      ]
     },
     "metadata": {
      "needs_background": "light"
     },
     "output_type": "display_data"
    }
   ],
   "source": [
    "# Make prediction with test data\n",
    "preds = models['gb'].predict(input_test)\n",
    "\n",
    "# Plot predictions on x axis and actuals on y axis\n",
    "plt.scatter(preds, target_test)\n",
    "\n",
    "# Label axes and show graph\n",
    "plt.xlabel('predicted')\n",
    "plt.ylabel('actual')\n",
    "plt.show()\n"
   ]
  },
  {
   "cell_type": "code",
   "execution_count": 29,
   "metadata": {},
   "outputs": [
    {
     "ename": "FileNotFoundError",
     "evalue": "[Errno 2] File C:\\Users\\zacha\\Desktop\\MLE Test\\ML 03. Module Files\\liquidity_client.csv does not exist: 'C:\\\\Users\\\\zacha\\\\Desktop\\\\MLE Test\\\\ML 03. Module Files\\\\liquidity_client.csv'",
     "output_type": "error",
     "traceback": [
      "\u001b[1;31m---------------------------------------------------------------------------\u001b[0m",
      "\u001b[1;31mFileNotFoundError\u001b[0m                         Traceback (most recent call last)",
      "\u001b[1;32m<ipython-input-29-062ed7b66a00>\u001b[0m in \u001b[0;36m<module>\u001b[1;34m\u001b[0m\n\u001b[1;32m----> 1\u001b[1;33m \u001b[0mclient\u001b[0m \u001b[1;33m=\u001b[0m \u001b[0mpd\u001b[0m\u001b[1;33m.\u001b[0m\u001b[0mread_csv\u001b[0m\u001b[1;33m(\u001b[0m\u001b[1;34m'C:\\\\Users\\\\zacha\\\\Desktop\\\\MLE Test\\\\ML 03. Module Files\\\\liquidity_client.csv'\u001b[0m\u001b[1;33m)\u001b[0m\u001b[1;33m\u001b[0m\u001b[1;33m\u001b[0m\u001b[0m\n\u001b[0m\u001b[0;32m      2\u001b[0m \u001b[0mmodels\u001b[0m\u001b[1;33m[\u001b[0m\u001b[1;34m'gb'\u001b[0m\u001b[1;33m]\u001b[0m\u001b[1;33m.\u001b[0m\u001b[0mpredict\u001b[0m\u001b[1;33m(\u001b[0m\u001b[0mclient\u001b[0m\u001b[1;33m)\u001b[0m\u001b[1;33m\u001b[0m\u001b[1;33m\u001b[0m\u001b[0m\n",
      "\u001b[1;32m~\\Anaconda3\\lib\\site-packages\\pandas\\io\\parsers.py\u001b[0m in \u001b[0;36mparser_f\u001b[1;34m(filepath_or_buffer, sep, delimiter, header, names, index_col, usecols, squeeze, prefix, mangle_dupe_cols, dtype, engine, converters, true_values, false_values, skipinitialspace, skiprows, skipfooter, nrows, na_values, keep_default_na, na_filter, verbose, skip_blank_lines, parse_dates, infer_datetime_format, keep_date_col, date_parser, dayfirst, cache_dates, iterator, chunksize, compression, thousands, decimal, lineterminator, quotechar, quoting, doublequote, escapechar, comment, encoding, dialect, error_bad_lines, warn_bad_lines, delim_whitespace, low_memory, memory_map, float_precision)\u001b[0m\n\u001b[0;32m    674\u001b[0m         )\n\u001b[0;32m    675\u001b[0m \u001b[1;33m\u001b[0m\u001b[0m\n\u001b[1;32m--> 676\u001b[1;33m         \u001b[1;32mreturn\u001b[0m \u001b[0m_read\u001b[0m\u001b[1;33m(\u001b[0m\u001b[0mfilepath_or_buffer\u001b[0m\u001b[1;33m,\u001b[0m \u001b[0mkwds\u001b[0m\u001b[1;33m)\u001b[0m\u001b[1;33m\u001b[0m\u001b[1;33m\u001b[0m\u001b[0m\n\u001b[0m\u001b[0;32m    677\u001b[0m \u001b[1;33m\u001b[0m\u001b[0m\n\u001b[0;32m    678\u001b[0m     \u001b[0mparser_f\u001b[0m\u001b[1;33m.\u001b[0m\u001b[0m__name__\u001b[0m \u001b[1;33m=\u001b[0m \u001b[0mname\u001b[0m\u001b[1;33m\u001b[0m\u001b[1;33m\u001b[0m\u001b[0m\n",
      "\u001b[1;32m~\\Anaconda3\\lib\\site-packages\\pandas\\io\\parsers.py\u001b[0m in \u001b[0;36m_read\u001b[1;34m(filepath_or_buffer, kwds)\u001b[0m\n\u001b[0;32m    446\u001b[0m \u001b[1;33m\u001b[0m\u001b[0m\n\u001b[0;32m    447\u001b[0m     \u001b[1;31m# Create the parser.\u001b[0m\u001b[1;33m\u001b[0m\u001b[1;33m\u001b[0m\u001b[1;33m\u001b[0m\u001b[0m\n\u001b[1;32m--> 448\u001b[1;33m     \u001b[0mparser\u001b[0m \u001b[1;33m=\u001b[0m \u001b[0mTextFileReader\u001b[0m\u001b[1;33m(\u001b[0m\u001b[0mfp_or_buf\u001b[0m\u001b[1;33m,\u001b[0m \u001b[1;33m**\u001b[0m\u001b[0mkwds\u001b[0m\u001b[1;33m)\u001b[0m\u001b[1;33m\u001b[0m\u001b[1;33m\u001b[0m\u001b[0m\n\u001b[0m\u001b[0;32m    449\u001b[0m \u001b[1;33m\u001b[0m\u001b[0m\n\u001b[0;32m    450\u001b[0m     \u001b[1;32mif\u001b[0m \u001b[0mchunksize\u001b[0m \u001b[1;32mor\u001b[0m \u001b[0miterator\u001b[0m\u001b[1;33m:\u001b[0m\u001b[1;33m\u001b[0m\u001b[1;33m\u001b[0m\u001b[0m\n",
      "\u001b[1;32m~\\Anaconda3\\lib\\site-packages\\pandas\\io\\parsers.py\u001b[0m in \u001b[0;36m__init__\u001b[1;34m(self, f, engine, **kwds)\u001b[0m\n\u001b[0;32m    878\u001b[0m             \u001b[0mself\u001b[0m\u001b[1;33m.\u001b[0m\u001b[0moptions\u001b[0m\u001b[1;33m[\u001b[0m\u001b[1;34m\"has_index_names\"\u001b[0m\u001b[1;33m]\u001b[0m \u001b[1;33m=\u001b[0m \u001b[0mkwds\u001b[0m\u001b[1;33m[\u001b[0m\u001b[1;34m\"has_index_names\"\u001b[0m\u001b[1;33m]\u001b[0m\u001b[1;33m\u001b[0m\u001b[1;33m\u001b[0m\u001b[0m\n\u001b[0;32m    879\u001b[0m \u001b[1;33m\u001b[0m\u001b[0m\n\u001b[1;32m--> 880\u001b[1;33m         \u001b[0mself\u001b[0m\u001b[1;33m.\u001b[0m\u001b[0m_make_engine\u001b[0m\u001b[1;33m(\u001b[0m\u001b[0mself\u001b[0m\u001b[1;33m.\u001b[0m\u001b[0mengine\u001b[0m\u001b[1;33m)\u001b[0m\u001b[1;33m\u001b[0m\u001b[1;33m\u001b[0m\u001b[0m\n\u001b[0m\u001b[0;32m    881\u001b[0m \u001b[1;33m\u001b[0m\u001b[0m\n\u001b[0;32m    882\u001b[0m     \u001b[1;32mdef\u001b[0m \u001b[0mclose\u001b[0m\u001b[1;33m(\u001b[0m\u001b[0mself\u001b[0m\u001b[1;33m)\u001b[0m\u001b[1;33m:\u001b[0m\u001b[1;33m\u001b[0m\u001b[1;33m\u001b[0m\u001b[0m\n",
      "\u001b[1;32m~\\Anaconda3\\lib\\site-packages\\pandas\\io\\parsers.py\u001b[0m in \u001b[0;36m_make_engine\u001b[1;34m(self, engine)\u001b[0m\n\u001b[0;32m   1112\u001b[0m     \u001b[1;32mdef\u001b[0m \u001b[0m_make_engine\u001b[0m\u001b[1;33m(\u001b[0m\u001b[0mself\u001b[0m\u001b[1;33m,\u001b[0m \u001b[0mengine\u001b[0m\u001b[1;33m=\u001b[0m\u001b[1;34m\"c\"\u001b[0m\u001b[1;33m)\u001b[0m\u001b[1;33m:\u001b[0m\u001b[1;33m\u001b[0m\u001b[1;33m\u001b[0m\u001b[0m\n\u001b[0;32m   1113\u001b[0m         \u001b[1;32mif\u001b[0m \u001b[0mengine\u001b[0m \u001b[1;33m==\u001b[0m \u001b[1;34m\"c\"\u001b[0m\u001b[1;33m:\u001b[0m\u001b[1;33m\u001b[0m\u001b[1;33m\u001b[0m\u001b[0m\n\u001b[1;32m-> 1114\u001b[1;33m             \u001b[0mself\u001b[0m\u001b[1;33m.\u001b[0m\u001b[0m_engine\u001b[0m \u001b[1;33m=\u001b[0m \u001b[0mCParserWrapper\u001b[0m\u001b[1;33m(\u001b[0m\u001b[0mself\u001b[0m\u001b[1;33m.\u001b[0m\u001b[0mf\u001b[0m\u001b[1;33m,\u001b[0m \u001b[1;33m**\u001b[0m\u001b[0mself\u001b[0m\u001b[1;33m.\u001b[0m\u001b[0moptions\u001b[0m\u001b[1;33m)\u001b[0m\u001b[1;33m\u001b[0m\u001b[1;33m\u001b[0m\u001b[0m\n\u001b[0m\u001b[0;32m   1115\u001b[0m         \u001b[1;32melse\u001b[0m\u001b[1;33m:\u001b[0m\u001b[1;33m\u001b[0m\u001b[1;33m\u001b[0m\u001b[0m\n\u001b[0;32m   1116\u001b[0m             \u001b[1;32mif\u001b[0m \u001b[0mengine\u001b[0m \u001b[1;33m==\u001b[0m \u001b[1;34m\"python\"\u001b[0m\u001b[1;33m:\u001b[0m\u001b[1;33m\u001b[0m\u001b[1;33m\u001b[0m\u001b[0m\n",
      "\u001b[1;32m~\\Anaconda3\\lib\\site-packages\\pandas\\io\\parsers.py\u001b[0m in \u001b[0;36m__init__\u001b[1;34m(self, src, **kwds)\u001b[0m\n\u001b[0;32m   1889\u001b[0m         \u001b[0mkwds\u001b[0m\u001b[1;33m[\u001b[0m\u001b[1;34m\"usecols\"\u001b[0m\u001b[1;33m]\u001b[0m \u001b[1;33m=\u001b[0m \u001b[0mself\u001b[0m\u001b[1;33m.\u001b[0m\u001b[0musecols\u001b[0m\u001b[1;33m\u001b[0m\u001b[1;33m\u001b[0m\u001b[0m\n\u001b[0;32m   1890\u001b[0m \u001b[1;33m\u001b[0m\u001b[0m\n\u001b[1;32m-> 1891\u001b[1;33m         \u001b[0mself\u001b[0m\u001b[1;33m.\u001b[0m\u001b[0m_reader\u001b[0m \u001b[1;33m=\u001b[0m \u001b[0mparsers\u001b[0m\u001b[1;33m.\u001b[0m\u001b[0mTextReader\u001b[0m\u001b[1;33m(\u001b[0m\u001b[0msrc\u001b[0m\u001b[1;33m,\u001b[0m \u001b[1;33m**\u001b[0m\u001b[0mkwds\u001b[0m\u001b[1;33m)\u001b[0m\u001b[1;33m\u001b[0m\u001b[1;33m\u001b[0m\u001b[0m\n\u001b[0m\u001b[0;32m   1892\u001b[0m         \u001b[0mself\u001b[0m\u001b[1;33m.\u001b[0m\u001b[0munnamed_cols\u001b[0m \u001b[1;33m=\u001b[0m \u001b[0mself\u001b[0m\u001b[1;33m.\u001b[0m\u001b[0m_reader\u001b[0m\u001b[1;33m.\u001b[0m\u001b[0munnamed_cols\u001b[0m\u001b[1;33m\u001b[0m\u001b[1;33m\u001b[0m\u001b[0m\n\u001b[0;32m   1893\u001b[0m \u001b[1;33m\u001b[0m\u001b[0m\n",
      "\u001b[1;32mpandas\\_libs\\parsers.pyx\u001b[0m in \u001b[0;36mpandas._libs.parsers.TextReader.__cinit__\u001b[1;34m()\u001b[0m\n",
      "\u001b[1;32mpandas\\_libs\\parsers.pyx\u001b[0m in \u001b[0;36mpandas._libs.parsers.TextReader._setup_parser_source\u001b[1;34m()\u001b[0m\n",
      "\u001b[1;31mFileNotFoundError\u001b[0m: [Errno 2] File C:\\Users\\zacha\\Desktop\\MLE Test\\ML 03. Module Files\\liquidity_client.csv does not exist: 'C:\\\\Users\\\\zacha\\\\Desktop\\\\MLE Test\\\\ML 03. Module Files\\\\liquidity_client.csv'"
     ]
    }
   ],
   "source": [
    "client = pd.read_csv('C:\\\\Users\\\\zacha\\\\Desktop\\\\MLE Test\\\\ML 03. Module Files\\\\liquidity_client.csv')\n",
    "models['gb'].predict(client)"
   ]
  },
  {
   "cell_type": "code",
   "execution_count": null,
   "metadata": {},
   "outputs": [],
   "source": [
    "# Client prediction above will not precisely match lesson video due to updated Scikit Learn calculation methods"
   ]
  }
 ],
 "metadata": {
  "kernelspec": {
   "display_name": "Python 3",
   "language": "python",
   "name": "python3"
  },
  "language_info": {
   "codemirror_mode": {
    "name": "ipython",
    "version": 3
   },
   "file_extension": ".py",
   "mimetype": "text/x-python",
   "name": "python",
   "nbconvert_exporter": "python",
   "pygments_lexer": "ipython3",
   "version": "3.7.7"
  }
 },
 "nbformat": 4,
 "nbformat_minor": 2
}
