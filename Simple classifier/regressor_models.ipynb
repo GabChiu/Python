{
 "cells": [
  {
   "cell_type": "code",
   "execution_count": 1,
   "metadata": {},
   "outputs": [],
   "source": [
    "import numpy as np\n",
    "import pandas as pd\n",
    "from matplotlib import pyplot as plt\n",
    "import seaborn as sns"
   ]
  },
  {
   "cell_type": "code",
   "execution_count": 2,
   "metadata": {},
   "outputs": [],
   "source": [
    "from sklearn.model_selection import train_test_split\n",
    "from sklearn.linear_model import Lasso, Ridge, ElasticNet\n",
    "from sklearn.ensemble import RandomForestRegressor, GradientBoostingRegressor\n",
    "from sklearn.pipeline import make_pipeline\n",
    "from sklearn.preprocessing import StandardScaler\n",
    "from sklearn.model_selection import GridSearchCV\n",
    "from sklearn.metrics import r2_score, mean_absolute_error"
   ]
  },
  {
   "cell_type": "code",
   "execution_count": 3,
   "metadata": {},
   "outputs": [
    {
     "data": {
      "text/html": [
       "<div>\n",
       "<style scoped>\n",
       "    .dataframe tbody tr th:only-of-type {\n",
       "        vertical-align: middle;\n",
       "    }\n",
       "\n",
       "    .dataframe tbody tr th {\n",
       "        vertical-align: top;\n",
       "    }\n",
       "\n",
       "    .dataframe thead th {\n",
       "        text-align: right;\n",
       "    }\n",
       "</style>\n",
       "<table border=\"1\" class=\"dataframe\">\n",
       "  <thead>\n",
       "    <tr style=\"text-align: right;\">\n",
       "      <th></th>\n",
       "      <th>available_liquidity</th>\n",
       "      <th>sp_score</th>\n",
       "      <th>market_cap</th>\n",
       "      <th>total_debt</th>\n",
       "      <th>ltm_capex</th>\n",
       "      <th>ltm_ebitda</th>\n",
       "      <th>ltm_fcf</th>\n",
       "      <th>ltm_revenue</th>\n",
       "    </tr>\n",
       "  </thead>\n",
       "  <tbody>\n",
       "    <tr>\n",
       "      <th>count</th>\n",
       "      <td>802.000000</td>\n",
       "      <td>802.000000</td>\n",
       "      <td>802.000000</td>\n",
       "      <td>802.000000</td>\n",
       "      <td>802.00000</td>\n",
       "      <td>802.000000</td>\n",
       "      <td>802.000000</td>\n",
       "      <td>802.000000</td>\n",
       "    </tr>\n",
       "    <tr>\n",
       "      <th>mean</th>\n",
       "      <td>3884.952199</td>\n",
       "      <td>3.017456</td>\n",
       "      <td>41645.089870</td>\n",
       "      <td>9040.720589</td>\n",
       "      <td>-1200.91799</td>\n",
       "      <td>3455.752891</td>\n",
       "      <td>1772.335973</td>\n",
       "      <td>20420.383638</td>\n",
       "    </tr>\n",
       "    <tr>\n",
       "      <th>std</th>\n",
       "      <td>4267.893247</td>\n",
       "      <td>1.851461</td>\n",
       "      <td>74046.522440</td>\n",
       "      <td>12112.161513</td>\n",
       "      <td>2066.29159</td>\n",
       "      <td>5679.466199</td>\n",
       "      <td>4207.345101</td>\n",
       "      <td>39483.422972</td>\n",
       "    </tr>\n",
       "    <tr>\n",
       "      <th>min</th>\n",
       "      <td>267.000000</td>\n",
       "      <td>0.000000</td>\n",
       "      <td>4282.810112</td>\n",
       "      <td>0.000000</td>\n",
       "      <td>-15858.00000</td>\n",
       "      <td>-6530.000000</td>\n",
       "      <td>-4888.000000</td>\n",
       "      <td>503.586000</td>\n",
       "    </tr>\n",
       "    <tr>\n",
       "      <th>25%</th>\n",
       "      <td>1288.328992</td>\n",
       "      <td>2.000000</td>\n",
       "      <td>10082.091010</td>\n",
       "      <td>2125.297000</td>\n",
       "      <td>-1241.00000</td>\n",
       "      <td>936.200000</td>\n",
       "      <td>232.923000</td>\n",
       "      <td>3791.525000</td>\n",
       "    </tr>\n",
       "    <tr>\n",
       "      <th>50%</th>\n",
       "      <td>2395.700000</td>\n",
       "      <td>3.000000</td>\n",
       "      <td>19349.403650</td>\n",
       "      <td>4562.000000</td>\n",
       "      <td>-512.00000</td>\n",
       "      <td>1695.700032</td>\n",
       "      <td>682.110000</td>\n",
       "      <td>8587.166000</td>\n",
       "    </tr>\n",
       "    <tr>\n",
       "      <th>75%</th>\n",
       "      <td>4512.458596</td>\n",
       "      <td>4.000000</td>\n",
       "      <td>41154.826240</td>\n",
       "      <td>10478.000000</td>\n",
       "      <td>-190.00000</td>\n",
       "      <td>3706.000000</td>\n",
       "      <td>1788.000000</td>\n",
       "      <td>18816.000000</td>\n",
       "    </tr>\n",
       "    <tr>\n",
       "      <th>max</th>\n",
       "      <td>28694.042710</td>\n",
       "      <td>10.000000</td>\n",
       "      <td>777070.706700</td>\n",
       "      <td>87032.000000</td>\n",
       "      <td>-5.04900</td>\n",
       "      <td>69715.000320</td>\n",
       "      <td>53244.000000</td>\n",
       "      <td>487511.000000</td>\n",
       "    </tr>\n",
       "  </tbody>\n",
       "</table>\n",
       "</div>"
      ],
      "text/plain": [
       "       available_liquidity    sp_score     market_cap    total_debt  \\\n",
       "count           802.000000  802.000000     802.000000    802.000000   \n",
       "mean           3884.952199    3.017456   41645.089870   9040.720589   \n",
       "std            4267.893247    1.851461   74046.522440  12112.161513   \n",
       "min             267.000000    0.000000    4282.810112      0.000000   \n",
       "25%            1288.328992    2.000000   10082.091010   2125.297000   \n",
       "50%            2395.700000    3.000000   19349.403650   4562.000000   \n",
       "75%            4512.458596    4.000000   41154.826240  10478.000000   \n",
       "max           28694.042710   10.000000  777070.706700  87032.000000   \n",
       "\n",
       "         ltm_capex    ltm_ebitda       ltm_fcf    ltm_revenue  \n",
       "count    802.00000    802.000000    802.000000     802.000000  \n",
       "mean   -1200.91799   3455.752891   1772.335973   20420.383638  \n",
       "std     2066.29159   5679.466199   4207.345101   39483.422972  \n",
       "min   -15858.00000  -6530.000000  -4888.000000     503.586000  \n",
       "25%    -1241.00000    936.200000    232.923000    3791.525000  \n",
       "50%     -512.00000   1695.700032    682.110000    8587.166000  \n",
       "75%     -190.00000   3706.000000   1788.000000   18816.000000  \n",
       "max       -5.04900  69715.000320  53244.000000  487511.000000  "
      ]
     },
     "execution_count": 3,
     "metadata": {},
     "output_type": "execute_result"
    }
   ],
   "source": [
    "df = pd.read_csv(\"liquidity_data.csv\")\n",
    "df.describe()"
   ]
  },
  {
   "cell_type": "code",
   "execution_count": 4,
   "metadata": {},
   "outputs": [],
   "source": [
    "target = df[\"available_liquidity\"]\n",
    "inputs = df.drop(\"available_liquidity\", axis=1)\n",
    "results = train_test_split(inputs, target, test_size=0.2, random_state=1)\n",
    "input_train, input_test, target_train, target_test = results"
   ]
  },
  {
   "cell_type": "markdown",
   "metadata": {},
   "source": [
    "mode pipeline - the standardized pocess to evaluate models against each other. Standardize training data to common scale and apply model to training data with a given random state so it's reproducible"
   ]
  },
  {
   "cell_type": "code",
   "execution_count": 5,
   "metadata": {},
   "outputs": [],
   "source": [
    "pipelines = {\n",
    "    'lasso' : make_pipeline(StandardScaler(), Lasso(random_state=1)),\n",
    "    'ridge' : make_pipeline(StandardScaler(), Ridge(random_state=1)),\n",
    "    'enet' : make_pipeline(StandardScaler(), ElasticNet(random_state=1)),\n",
    "    'rf' : make_pipeline(StandardScaler(), RandomForestRegressor(random_state=1)),\n",
    "    'gb' : make_pipeline(StandardScaler(), GradientBoostingRegressor(random_state=1))\n",
    "}"
   ]
  },
  {
   "cell_type": "markdown",
   "metadata": {},
   "source": [
    "hyperparameter key names are non-optional. Specified naming convention for scikitlearn's functions to work correctly"
   ]
  },
  {
   "cell_type": "code",
   "execution_count": 10,
   "metadata": {},
   "outputs": [],
   "source": [
    "lasso_hyperparameters = {\n",
    "    'lasso__alpha' : [0.01, 0.05, .01, 0.5, 1, 5]\n",
    "}\n",
    "ridge_hyperparameters = {\n",
    "    'ridge__alpha' : [0.01, 0.05, 0.1, 0.5, 1, 5]\n",
    "}\n",
    "enet_hyperparameters = {\n",
    "    'elasticnet__alpha' : [0.01, 0.05, 0.1, 0.5, 1, 5],\n",
    "    'elasticnet__l1_ratio' : [0.1, 0.3, 0.5, 0.7, 0.9]\n",
    "}\n",
    "rf_hyperparameters = {\n",
    "    'randomforestregressor__n_estimators' : [100, 200],\n",
    "    'randomforestregressor__max_features' : ['auto', 0.3, 0.6]\n",
    "}\n",
    "gb_hyperparameters = {\n",
    "    'gradientboostingregressor__n_estimators' : [100, 200],\n",
    "    'gradientboostingregressor__learning_rate' : [0.05, 0.1, 0.2],\n",
    "    'gradientboostingregressor__max_depth' : [1, 3, 5]\n",
    "}\n",
    "hyperparameter_grids = {\n",
    "    'lasso' : lasso_hyperparameters,\n",
    "    'ridge' : ridge_hyperparameters,\n",
    "    'enet' : enet_hyperparameters,\n",
    "    'rf' : rf_hyperparameters,\n",
    "    'gb' : gb_hyperparameters\n",
    "}"
   ]
  },
  {
   "cell_type": "markdown",
   "metadata": {},
   "source": [
    "Model setup and training. 5-fold cross validation"
   ]
  },
  {
   "cell_type": "code",
   "execution_count": 11,
   "metadata": {},
   "outputs": [],
   "source": [
    "models = {}\n",
    "\n",
    "for key in pipelines.keys():\n",
    "    models[key] = GridSearchCV(pipelines[key], hyperparameter_grids[key], cv=5)\n"
   ]
  },
  {
   "cell_type": "code",
   "execution_count": 12,
   "metadata": {},
   "outputs": [
    {
     "name": "stdout",
     "output_type": "stream",
     "text": [
      "lasso  is trained and tuned\n",
      "ridge  is trained and tuned\n",
      "enet  is trained and tuned\n",
      "rf  is trained and tuned\n",
      "gb  is trained and tuned\n"
     ]
    }
   ],
   "source": [
    "for model in models:\n",
    "    models[model].fit(input_train, target_train)\n",
    "    print(model, \" is trained and tuned\")"
   ]
  },
  {
   "cell_type": "code",
   "execution_count": 13,
   "metadata": {},
   "outputs": [
    {
     "name": "stdout",
     "output_type": "stream",
     "text": [
      "lasso \t R-squared: 0.498 \t MAE: 1710.083\n",
      "ridge \t R-squared: 0.5 \t MAE: 1708.062\n",
      "enet \t R-squared: 0.501 \t MAE: 1706.04\n",
      "rf \t R-squared: 0.852 \t MAE: 934.706\n",
      "gb \t R-squared: 0.855 \t MAE: 588.249\n"
     ]
    }
   ],
   "source": [
    "preds = {}\n",
    "for model in models:\n",
    "    model_preds = models[model].predict(input_test)\n",
    "    rsquared = round(r2_score(target_test, model_preds),3)\n",
    "    mae = round(mean_absolute_error(target_test, model_preds),3)\n",
    "    preds[model] = [\"R-squared: \" + str(rsquared), \"MAE: \" + str(mae)]\n",
    "    \n",
    "for key in preds.keys():\n",
    "    print(key, \"\\t\", preds[key][0], \"\\t\",preds[key][1])"
   ]
  },
  {
   "cell_type": "code",
   "execution_count": 15,
   "metadata": {},
   "outputs": [
    {
     "data": {
      "image/png": "[encoded data removed]",
      "text/plain": [
       "<Figure size 720x504 with 1 Axes>"
      ]
     },
     "metadata": {
      "needs_background": "light"
     },
     "output_type": "display_data"
    }
   ],
   "source": [
    "lasso_pred = models['gb'].predict(input_test)\n",
    "plt.figure(figsize=(10,7))\n",
    "plt.scatter(lasso_pred, target_test)\n",
    "plt.xlabel(\"gb prediction\")\n",
    "plt.ylabel(\"actual\")\n",
    "plt.show()"
   ]
  },
  {
   "cell_type": "markdown",
   "metadata": {},
   "source": [
    "Based on the Gradient Booster model, a prediction can now be made on outside data by importing it similarly to block [3] and then passing it into models['gb'].predict( \"imported outside data\" )"
   ]
  }
 ],
 "metadata": {
  "kernelspec": {
   "display_name": "Python 3",
   "language": "python",
   "name": "python3"
  },
  "language_info": {
   "codemirror_mode": {
    "name": "ipython",
    "version": 3
   },
   "file_extension": ".py",
   "mimetype": "text/x-python",
   "name": "python",
   "nbconvert_exporter": "python",
   "pygments_lexer": "ipython3",
   "version": "3.7.7"
  }
 },
 "nbformat": 4,
 "nbformat_minor": 4
}
