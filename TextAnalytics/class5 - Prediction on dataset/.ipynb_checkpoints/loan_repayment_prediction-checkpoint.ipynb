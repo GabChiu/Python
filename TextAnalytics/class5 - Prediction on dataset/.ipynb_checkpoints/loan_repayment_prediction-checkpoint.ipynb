{
 "cells": [
  {
   "cell_type": "code",
   "execution_count": 1,
   "metadata": {},
   "outputs": [],
   "source": [
    "import numpy as np\n",
    "import pandas as pd\n",
    "from matplotlib import pyplot as plt\n",
    "import seaborn as sns"
   ]
  },
  {
   "cell_type": "code",
   "execution_count": null,
   "metadata": {},
   "outputs": [],
   "source": [
    "from sklearn.model_selection import train_test_split\n",
    "from sklearn.linear_model import Lasso, Ridge, ElasticNet\n",
    "from sklearn.ensemble import RandomForestRegressor, GradientBoostingRegressor\n",
    "from sklearn.pipeline import make_pipeline\n",
    "from sklearn.preprocessing import StandardScaler\n",
    "from sklearn.model_selection import GridSearchCV\n",
    "from sklearn.metrics import r2_score, mean_absolute_error"
   ]
  },
  {
   "cell_type": "code",
   "execution_count": 25,
   "metadata": {},
   "outputs": [],
   "source": [
    "df = pd.read_csv(\"loanclassification.csv\")"
   ]
  },
  {
   "cell_type": "code",
   "execution_count": 26,
   "metadata": {},
   "outputs": [
    {
     "data": {
      "text/html": [
       "<div>\n",
       "<style scoped>\n",
       "    .dataframe tbody tr th:only-of-type {\n",
       "        vertical-align: middle;\n",
       "    }\n",
       "\n",
       "    .dataframe tbody tr th {\n",
       "        vertical-align: top;\n",
       "    }\n",
       "\n",
       "    .dataframe thead th {\n",
       "        text-align: right;\n",
       "    }\n",
       "</style>\n",
       "<table border=\"1\" class=\"dataframe\">\n",
       "  <thead>\n",
       "    <tr style=\"text-align: right;\">\n",
       "      <th></th>\n",
       "      <th>Loan ID</th>\n",
       "      <th>Age</th>\n",
       "      <th>Has_Job</th>\n",
       "      <th>Own_home</th>\n",
       "      <th>Credit_Rating</th>\n",
       "      <th>Paid_back</th>\n",
       "    </tr>\n",
       "  </thead>\n",
       "  <tbody>\n",
       "    <tr>\n",
       "      <th>0</th>\n",
       "      <td>1</td>\n",
       "      <td>young</td>\n",
       "      <td>1</td>\n",
       "      <td>1</td>\n",
       "      <td>good</td>\n",
       "      <td>1</td>\n",
       "    </tr>\n",
       "    <tr>\n",
       "      <th>1</th>\n",
       "      <td>2</td>\n",
       "      <td>young</td>\n",
       "      <td>0</td>\n",
       "      <td>0</td>\n",
       "      <td>fair</td>\n",
       "      <td>0</td>\n",
       "    </tr>\n",
       "    <tr>\n",
       "      <th>2</th>\n",
       "      <td>3</td>\n",
       "      <td>middle</td>\n",
       "      <td>0</td>\n",
       "      <td>1</td>\n",
       "      <td>excellent</td>\n",
       "      <td>1</td>\n",
       "    </tr>\n",
       "    <tr>\n",
       "      <th>3</th>\n",
       "      <td>4</td>\n",
       "      <td>middle</td>\n",
       "      <td>0</td>\n",
       "      <td>0</td>\n",
       "      <td>good</td>\n",
       "      <td>0</td>\n",
       "    </tr>\n",
       "    <tr>\n",
       "      <th>4</th>\n",
       "      <td>5</td>\n",
       "      <td>middle</td>\n",
       "      <td>1</td>\n",
       "      <td>1</td>\n",
       "      <td>good</td>\n",
       "      <td>1</td>\n",
       "    </tr>\n",
       "  </tbody>\n",
       "</table>\n",
       "</div>"
      ],
      "text/plain": [
       "   Loan ID     Age  Has_Job  Own_home Credit_Rating  Paid_back\n",
       "0        1   young        1         1          good          1\n",
       "1        2   young        0         0          fair          0\n",
       "2        3  middle        0         1     excellent          1\n",
       "3        4  middle        0         0          good          0\n",
       "4        5  middle        1         1          good          1"
      ]
     },
     "execution_count": 26,
     "metadata": {},
     "output_type": "execute_result"
    }
   ],
   "source": [
    "df.head()"
   ]
  },
  {
   "cell_type": "code",
   "execution_count": 27,
   "metadata": {},
   "outputs": [],
   "source": [
    "df = pd.get_dummies(df, columns=[\"Age\", \"Credit_Rating\"])"
   ]
  },
  {
   "cell_type": "code",
   "execution_count": 28,
   "metadata": {},
   "outputs": [
    {
     "data": {
      "text/html": [
       "<div>\n",
       "<style scoped>\n",
       "    .dataframe tbody tr th:only-of-type {\n",
       "        vertical-align: middle;\n",
       "    }\n",
       "\n",
       "    .dataframe tbody tr th {\n",
       "        vertical-align: top;\n",
       "    }\n",
       "\n",
       "    .dataframe thead th {\n",
       "        text-align: right;\n",
       "    }\n",
       "</style>\n",
       "<table border=\"1\" class=\"dataframe\">\n",
       "  <thead>\n",
       "    <tr style=\"text-align: right;\">\n",
       "      <th></th>\n",
       "      <th>Loan ID</th>\n",
       "      <th>Has_Job</th>\n",
       "      <th>Own_home</th>\n",
       "      <th>Paid_back</th>\n",
       "      <th>Age_middle</th>\n",
       "      <th>Age_old</th>\n",
       "      <th>Age_young</th>\n",
       "      <th>Credit_Rating_excellent</th>\n",
       "      <th>Credit_Rating_fair</th>\n",
       "      <th>Credit_Rating_good</th>\n",
       "    </tr>\n",
       "  </thead>\n",
       "  <tbody>\n",
       "    <tr>\n",
       "      <th>0</th>\n",
       "      <td>1</td>\n",
       "      <td>1</td>\n",
       "      <td>1</td>\n",
       "      <td>1</td>\n",
       "      <td>0</td>\n",
       "      <td>0</td>\n",
       "      <td>1</td>\n",
       "      <td>0</td>\n",
       "      <td>0</td>\n",
       "      <td>1</td>\n",
       "    </tr>\n",
       "    <tr>\n",
       "      <th>1</th>\n",
       "      <td>2</td>\n",
       "      <td>0</td>\n",
       "      <td>0</td>\n",
       "      <td>0</td>\n",
       "      <td>0</td>\n",
       "      <td>0</td>\n",
       "      <td>1</td>\n",
       "      <td>0</td>\n",
       "      <td>1</td>\n",
       "      <td>0</td>\n",
       "    </tr>\n",
       "    <tr>\n",
       "      <th>2</th>\n",
       "      <td>3</td>\n",
       "      <td>0</td>\n",
       "      <td>1</td>\n",
       "      <td>1</td>\n",
       "      <td>1</td>\n",
       "      <td>0</td>\n",
       "      <td>0</td>\n",
       "      <td>1</td>\n",
       "      <td>0</td>\n",
       "      <td>0</td>\n",
       "    </tr>\n",
       "    <tr>\n",
       "      <th>3</th>\n",
       "      <td>4</td>\n",
       "      <td>0</td>\n",
       "      <td>0</td>\n",
       "      <td>0</td>\n",
       "      <td>1</td>\n",
       "      <td>0</td>\n",
       "      <td>0</td>\n",
       "      <td>0</td>\n",
       "      <td>0</td>\n",
       "      <td>1</td>\n",
       "    </tr>\n",
       "    <tr>\n",
       "      <th>4</th>\n",
       "      <td>5</td>\n",
       "      <td>1</td>\n",
       "      <td>1</td>\n",
       "      <td>1</td>\n",
       "      <td>1</td>\n",
       "      <td>0</td>\n",
       "      <td>0</td>\n",
       "      <td>0</td>\n",
       "      <td>0</td>\n",
       "      <td>1</td>\n",
       "    </tr>\n",
       "  </tbody>\n",
       "</table>\n",
       "</div>"
      ],
      "text/plain": [
       "   Loan ID  Has_Job  Own_home  Paid_back  Age_middle  Age_old  Age_young  \\\n",
       "0        1        1         1          1           0        0          1   \n",
       "1        2        0         0          0           0        0          1   \n",
       "2        3        0         1          1           1        0          0   \n",
       "3        4        0         0          0           1        0          0   \n",
       "4        5        1         1          1           1        0          0   \n",
       "\n",
       "   Credit_Rating_excellent  Credit_Rating_fair  Credit_Rating_good  \n",
       "0                        0                   0                   1  \n",
       "1                        0                   1                   0  \n",
       "2                        1                   0                   0  \n",
       "3                        0                   0                   1  \n",
       "4                        0                   0                   1  "
      ]
     },
     "execution_count": 28,
     "metadata": {},
     "output_type": "execute_result"
    }
   ],
   "source": [
    "df.head()"
   ]
  },
  {
   "cell_type": "code",
   "execution_count": 29,
   "metadata": {},
   "outputs": [
    {
     "data": {
      "text/plain": [
       "array([[<matplotlib.axes._subplots.AxesSubplot object at 0x000002645FA1D048>,\n",
       "        <matplotlib.axes._subplots.AxesSubplot object at 0x000002645FAD3048>,\n",
       "        <matplotlib.axes._subplots.AxesSubplot object at 0x000002645FB0BB88>],\n",
       "       [<matplotlib.axes._subplots.AxesSubplot object at 0x000002645FB49248>,\n",
       "        <matplotlib.axes._subplots.AxesSubplot object at 0x000002645FB7EFC8>,\n",
       "        <matplotlib.axes._subplots.AxesSubplot object at 0x000002645FBA6C08>],\n",
       "       [<matplotlib.axes._subplots.AxesSubplot object at 0x000002645FBDEAC8>,\n",
       "        <matplotlib.axes._subplots.AxesSubplot object at 0x000002645FC17808>,\n",
       "        <matplotlib.axes._subplots.AxesSubplot object at 0x000002645FC17A08>],\n",
       "       [<matplotlib.axes._subplots.AxesSubplot object at 0x000002645FC52988>,\n",
       "        <matplotlib.axes._subplots.AxesSubplot object at 0x000002645FCC44C8>,\n",
       "        <matplotlib.axes._subplots.AxesSubplot object at 0x000002645FCFC408>]],\n",
       "      dtype=object)"
      ]
     },
     "execution_count": 29,
     "metadata": {},
     "output_type": "execute_result"
    },
    {
     "data": {
      "image/png": "[encoded data removed]",
      "text/plain": [
       "<Figure size 720x504 with 12 Axes>"
      ]
     },
     "metadata": {
      "needs_background": "light"
     },
     "output_type": "display_data"
    }
   ],
   "source": [
    "df.hist(figsize=(10,7))"
   ]
  },
  {
   "cell_type": "code",
   "execution_count": 7,
   "metadata": {},
   "outputs": [
    {
     "data": {
      "text/plain": [
       "<matplotlib.axes._subplots.AxesSubplot at 0x2645eb72448>"
      ]
     },
     "execution_count": 7,
     "metadata": {},
     "output_type": "execute_result"
    },
    {
     "data": {
      "image/png": "[encoded data removed]",
      "text/plain": [
       "<Figure size 432x288 with 1 Axes>"
      ]
     },
     "metadata": {
      "needs_background": "light"
     },
     "output_type": "display_data"
    }
   ],
   "source": [
    "df.groupby(\"Age\").Credit_Rating.value_counts().plot(kind=\"barh\")"
   ]
  },
  {
   "cell_type": "code",
   "execution_count": 8,
   "metadata": {},
   "outputs": [
    {
     "data": {
      "text/plain": [
       "<matplotlib.axes._subplots.AxesSubplot at 0x2645e5b6448>"
      ]
     },
     "execution_count": 8,
     "metadata": {},
     "output_type": "execute_result"
    },
    {
     "data": {
      "image/png": "[encoded data removed]",
      "text/plain": [
       "<Figure size 432x288 with 1 Axes>"
      ]
     },
     "metadata": {
      "needs_background": "light"
     },
     "output_type": "display_data"
    }
   ],
   "source": [
    "df.groupby(\"Age\").Paid_back.value_counts().plot(kind=\"barh\")"
   ]
  },
  {
   "cell_type": "code",
   "execution_count": 14,
   "metadata": {},
   "outputs": [
    {
     "data": {
      "text/plain": [
       "<matplotlib.axes._subplots.AxesSubplot at 0x2645de65448>"
      ]
     },
     "execution_count": 14,
     "metadata": {},
     "output_type": "execute_result"
    },
    {
     "data": {
      "image/png": "[encoded data removed]",
      "text/plain": [
       "<Figure size 432x288 with 1 Axes>"
      ]
     },
     "metadata": {
      "needs_background": "light"
     },
     "output_type": "display_data"
    }
   ],
   "source": [
    "df.groupby(\"Has_Job\").Paid_back.value_counts().plot(kind=\"barh\")"
   ]
  },
  {
   "cell_type": "code",
   "execution_count": 9,
   "metadata": {},
   "outputs": [
    {
     "data": {
      "text/plain": [
       "<matplotlib.axes._subplots.AxesSubplot at 0x2645d7e6e48>"
      ]
     },
     "execution_count": 9,
     "metadata": {},
     "output_type": "execute_result"
    },
    {
     "data": {
      "image/png": "[encoded data removed]",
      "text/plain": [
       "<Figure size 432x288 with 1 Axes>"
      ]
     },
     "metadata": {
      "needs_background": "light"
     },
     "output_type": "display_data"
    }
   ],
   "source": [
    "df.groupby(\"Credit_Rating\").Paid_back.value_counts().plot(kind=\"barh\")"
   ]
  },
  {
   "cell_type": "code",
   "execution_count": 31,
   "metadata": {},
   "outputs": [
    {
     "data": {
      "text/html": [
       "<div>\n",
       "<style scoped>\n",
       "    .dataframe tbody tr th:only-of-type {\n",
       "        vertical-align: middle;\n",
       "    }\n",
       "\n",
       "    .dataframe tbody tr th {\n",
       "        vertical-align: top;\n",
       "    }\n",
       "\n",
       "    .dataframe thead th {\n",
       "        text-align: right;\n",
       "    }\n",
       "</style>\n",
       "<table border=\"1\" class=\"dataframe\">\n",
       "  <thead>\n",
       "    <tr style=\"text-align: right;\">\n",
       "      <th></th>\n",
       "      <th>Loan ID</th>\n",
       "      <th>Has_Job</th>\n",
       "      <th>Own_home</th>\n",
       "      <th>Paid_back</th>\n",
       "      <th>Age_middle</th>\n",
       "      <th>Age_old</th>\n",
       "      <th>Age_young</th>\n",
       "      <th>Credit_Rating_excellent</th>\n",
       "      <th>Credit_Rating_fair</th>\n",
       "      <th>Credit_Rating_good</th>\n",
       "    </tr>\n",
       "  </thead>\n",
       "  <tbody>\n",
       "    <tr>\n",
       "      <th>count</th>\n",
       "      <td>15.000000</td>\n",
       "      <td>15.000000</td>\n",
       "      <td>15.000000</td>\n",
       "      <td>15.000000</td>\n",
       "      <td>15.000000</td>\n",
       "      <td>15.000000</td>\n",
       "      <td>15.000000</td>\n",
       "      <td>15.000000</td>\n",
       "      <td>15.000000</td>\n",
       "      <td>15.000000</td>\n",
       "    </tr>\n",
       "    <tr>\n",
       "      <th>mean</th>\n",
       "      <td>8.000000</td>\n",
       "      <td>0.333333</td>\n",
       "      <td>0.466667</td>\n",
       "      <td>0.600000</td>\n",
       "      <td>0.333333</td>\n",
       "      <td>0.333333</td>\n",
       "      <td>0.333333</td>\n",
       "      <td>0.266667</td>\n",
       "      <td>0.333333</td>\n",
       "      <td>0.400000</td>\n",
       "    </tr>\n",
       "    <tr>\n",
       "      <th>std</th>\n",
       "      <td>4.472136</td>\n",
       "      <td>0.487950</td>\n",
       "      <td>0.516398</td>\n",
       "      <td>0.507093</td>\n",
       "      <td>0.487950</td>\n",
       "      <td>0.487950</td>\n",
       "      <td>0.487950</td>\n",
       "      <td>0.457738</td>\n",
       "      <td>0.487950</td>\n",
       "      <td>0.507093</td>\n",
       "    </tr>\n",
       "    <tr>\n",
       "      <th>min</th>\n",
       "      <td>1.000000</td>\n",
       "      <td>0.000000</td>\n",
       "      <td>0.000000</td>\n",
       "      <td>0.000000</td>\n",
       "      <td>0.000000</td>\n",
       "      <td>0.000000</td>\n",
       "      <td>0.000000</td>\n",
       "      <td>0.000000</td>\n",
       "      <td>0.000000</td>\n",
       "      <td>0.000000</td>\n",
       "    </tr>\n",
       "    <tr>\n",
       "      <th>25%</th>\n",
       "      <td>4.500000</td>\n",
       "      <td>0.000000</td>\n",
       "      <td>0.000000</td>\n",
       "      <td>0.000000</td>\n",
       "      <td>0.000000</td>\n",
       "      <td>0.000000</td>\n",
       "      <td>0.000000</td>\n",
       "      <td>0.000000</td>\n",
       "      <td>0.000000</td>\n",
       "      <td>0.000000</td>\n",
       "    </tr>\n",
       "    <tr>\n",
       "      <th>50%</th>\n",
       "      <td>8.000000</td>\n",
       "      <td>0.000000</td>\n",
       "      <td>0.000000</td>\n",
       "      <td>1.000000</td>\n",
       "      <td>0.000000</td>\n",
       "      <td>0.000000</td>\n",
       "      <td>0.000000</td>\n",
       "      <td>0.000000</td>\n",
       "      <td>0.000000</td>\n",
       "      <td>0.000000</td>\n",
       "    </tr>\n",
       "    <tr>\n",
       "      <th>75%</th>\n",
       "      <td>11.500000</td>\n",
       "      <td>1.000000</td>\n",
       "      <td>1.000000</td>\n",
       "      <td>1.000000</td>\n",
       "      <td>1.000000</td>\n",
       "      <td>1.000000</td>\n",
       "      <td>1.000000</td>\n",
       "      <td>0.500000</td>\n",
       "      <td>1.000000</td>\n",
       "      <td>1.000000</td>\n",
       "    </tr>\n",
       "    <tr>\n",
       "      <th>max</th>\n",
       "      <td>15.000000</td>\n",
       "      <td>1.000000</td>\n",
       "      <td>1.000000</td>\n",
       "      <td>1.000000</td>\n",
       "      <td>1.000000</td>\n",
       "      <td>1.000000</td>\n",
       "      <td>1.000000</td>\n",
       "      <td>1.000000</td>\n",
       "      <td>1.000000</td>\n",
       "      <td>1.000000</td>\n",
       "    </tr>\n",
       "  </tbody>\n",
       "</table>\n",
       "</div>"
      ],
      "text/plain": [
       "         Loan ID    Has_Job   Own_home  Paid_back  Age_middle    Age_old  \\\n",
       "count  15.000000  15.000000  15.000000  15.000000   15.000000  15.000000   \n",
       "mean    8.000000   0.333333   0.466667   0.600000    0.333333   0.333333   \n",
       "std     4.472136   0.487950   0.516398   0.507093    0.487950   0.487950   \n",
       "min     1.000000   0.000000   0.000000   0.000000    0.000000   0.000000   \n",
       "25%     4.500000   0.000000   0.000000   0.000000    0.000000   0.000000   \n",
       "50%     8.000000   0.000000   0.000000   1.000000    0.000000   0.000000   \n",
       "75%    11.500000   1.000000   1.000000   1.000000    1.000000   1.000000   \n",
       "max    15.000000   1.000000   1.000000   1.000000    1.000000   1.000000   \n",
       "\n",
       "       Age_young  Credit_Rating_excellent  Credit_Rating_fair  \\\n",
       "count  15.000000                15.000000           15.000000   \n",
       "mean    0.333333                 0.266667            0.333333   \n",
       "std     0.487950                 0.457738            0.487950   \n",
       "min     0.000000                 0.000000            0.000000   \n",
       "25%     0.000000                 0.000000            0.000000   \n",
       "50%     0.000000                 0.000000            0.000000   \n",
       "75%     1.000000                 0.500000            1.000000   \n",
       "max     1.000000                 1.000000            1.000000   \n",
       "\n",
       "       Credit_Rating_good  \n",
       "count           15.000000  \n",
       "mean             0.400000  \n",
       "std              0.507093  \n",
       "min              0.000000  \n",
       "25%              0.000000  \n",
       "50%              0.000000  \n",
       "75%              1.000000  \n",
       "max              1.000000  "
      ]
     },
     "execution_count": 31,
     "metadata": {},
     "output_type": "execute_result"
    }
   ],
   "source": [
    "df.describe()"
   ]
  },
  {
   "cell_type": "code",
   "execution_count": 32,
   "metadata": {},
   "outputs": [],
   "source": [
    "target = df.Paid_back"
   ]
  },
  {
   "cell_type": "code",
   "execution_count": 33,
   "metadata": {},
   "outputs": [],
   "source": [
    "inputs = df.drop(\"Paid_back\", axis=1)"
   ]
  },
  {
   "cell_type": "code",
   "execution_count": 34,
   "metadata": {},
   "outputs": [],
   "source": [
    "results = train_test_split(inputs, target, test_size=0.2, random_state=1)\n",
    "input_train, input_test, target_train, target_test = results"
   ]
  },
  {
   "cell_type": "code",
   "execution_count": 17,
   "metadata": {},
   "outputs": [],
   "source": [
    "pipelines = {\n",
    "    'lasso' : make_pipeline(StandardScaler(), Lasso(random_state=1)),\n",
    "    'ridge' : make_pipeline(StandardScaler(), Ridge(random_state=1)),\n",
    "    'enet' : make_pipeline(StandardScaler(), ElasticNet(random_state=1)),\n",
    "    'rf' : make_pipeline(StandardScaler(), RandomForestRegressor(random_state=1)),\n",
    "    'gb' : make_pipeline(StandardScaler(), GradientBoostingRegressor(random_state=1))\n",
    "}"
   ]
  },
  {
   "cell_type": "markdown",
   "metadata": {},
   "source": [
    "Lasso regularization adds a penalty factor proportional to the magnitude of the coefficients. The significance of this regularization is that features can end up with a zero-value coefficient, aiding in feature selection and reducing overfitting. Lasso works well when there are a small number of significant predictors.\n",
    "\n",
    "Ridge regularization adds a penalty factor proportional to the square of the coefficients. This penalization reduces the size of the coefficients, shrinking them towards zero but will not reduce to zero. While this regularization method will not eliminate coefficients, it can be useful for situations where you want to keep all the variables. Ridge works well when there are many predictors of approximately the same value.\n",
    "\n",
    "Elastic net is a convex combination of the lasso and ridge regression penalties, creating two hyperparameters to tune. The L1 regularization pushes the model to select features most strongly correlated with the outcome and the L2 regularization is suited for highly correlated features that are a weakness of lassos. (In groups of variables wherein the pairwise correlation is high, the lasso tends to select only 1 variable from the group and does not care which is selected)."
   ]
  },
  {
   "cell_type": "code",
   "execution_count": 18,
   "metadata": {},
   "outputs": [],
   "source": [
    "lasso_hyperparameters = {\n",
    "    'lasso__alpha' : [0.01, 0.05, .01, 0.5, 1, 5]\n",
    "}\n",
    "ridge_hyperparameters = {\n",
    "    'ridge__alpha' : [0.01, 0.05, 0.1, 0.5, 1, 5]\n",
    "}\n",
    "enet_hyperparameters = {\n",
    "    'elasticnet__alpha' : [0.01, 0.05, 0.1, 0.5, 1, 5],\n",
    "    'elasticnet__l1_ratio' : [0.1, 0.3, 0.5, 0.7, 0.9]\n",
    "}\n",
    "rf_hyperparameters = {\n",
    "    'randomforestregressor__n_estimators' : [100, 200],\n",
    "    'randomforestregressor__max_features' : ['auto', 0.3, 0.6]\n",
    "}\n",
    "gb_hyperparameters = {\n",
    "    'gradientboostingregressor__n_estimators' : [100, 200],\n",
    "    'gradientboostingregressor__learning_rate' : [0.05, 0.1, 0.2],\n",
    "    'gradientboostingregressor__max_depth' : [1, 3, 5]\n",
    "}\n",
    "hyperparameter_grids = {\n",
    "    'lasso' : lasso_hyperparameters,\n",
    "    'ridge' : ridge_hyperparameters,\n",
    "    'enet' : enet_hyperparameters,\n",
    "    'rf' : rf_hyperparameters,\n",
    "    'gb' : gb_hyperparameters\n",
    "}"
   ]
  },
  {
   "cell_type": "code",
   "execution_count": 35,
   "metadata": {},
   "outputs": [
    {
     "name": "stdout",
     "output_type": "stream",
     "text": [
      "lasso  is trained and tuned\n",
      "ridge  is trained and tuned\n",
      "enet  is trained and tuned\n",
      "rf  is trained and tuned\n",
      "gb  is trained and tuned\n"
     ]
    }
   ],
   "source": [
    "models = {}\n",
    "\n",
    "for key in pipelines.keys():\n",
    "    models[key] = GridSearchCV(pipelines[key], hyperparameter_grids[key], cv=5)\n",
    "\n",
    "for model in models:\n",
    "    models[model].fit(input_train, target_train)\n",
    "    print(model, \" is trained and tuned\")"
   ]
  },
  {
   "cell_type": "code",
   "execution_count": 36,
   "metadata": {},
   "outputs": [
    {
     "name": "stdout",
     "output_type": "stream",
     "text": [
      "lasso \t R-squared: -0.5 \t MAE: 0.556\n",
      "ridge \t R-squared: 0.686 \t MAE: 0.239\n",
      "enet \t R-squared: 0.482 \t MAE: 0.329\n",
      "rf \t R-squared: 0.138 \t MAE: 0.42\n",
      "gb \t R-squared: 0.49 \t MAE: 0.308\n"
     ]
    }
   ],
   "source": [
    "preds = {}\n",
    "for model in models:\n",
    "    model_preds = models[model].predict(input_test)\n",
    "    rsquared = round(r2_score(target_test, model_preds),3)\n",
    "    mae = round(mean_absolute_error(target_test, model_preds),3)\n",
    "    preds[model] = [\"R-squared: \" + str(rsquared), \"MAE: \" + str(mae)]\n",
    "    \n",
    "for key in preds.keys():\n",
    "    print(key, \"\\t\", preds[key][0], \"\\t\",preds[key][1])"
   ]
  },
  {
   "cell_type": "code",
   "execution_count": 39,
   "metadata": {},
   "outputs": [
    {
     "data": {
      "image/png": "[encoded data removed]",
      "text/plain": [
       "<Figure size 720x504 with 1 Axes>"
      ]
     },
     "metadata": {
      "needs_background": "light"
     },
     "output_type": "display_data"
    }
   ],
   "source": [
    "ridge_pred = models['ridge'].predict(input_test)\n",
    "plt.figure(figsize=(10,7))\n",
    "plt.scatter(ridge_pred, target_test)\n",
    "plt.xlabel(\"ridge prediction\")\n",
    "plt.ylabel(\"actual\")\n",
    "plt.show()"
   ]
  },
  {
   "cell_type": "code",
   "execution_count": 40,
   "metadata": {},
   "outputs": [
    {
     "data": {
      "text/html": [
       "<div>\n",
       "<style scoped>\n",
       "    .dataframe tbody tr th:only-of-type {\n",
       "        vertical-align: middle;\n",
       "    }\n",
       "\n",
       "    .dataframe tbody tr th {\n",
       "        vertical-align: top;\n",
       "    }\n",
       "\n",
       "    .dataframe thead th {\n",
       "        text-align: right;\n",
       "    }\n",
       "</style>\n",
       "<table border=\"1\" class=\"dataframe\">\n",
       "  <thead>\n",
       "    <tr style=\"text-align: right;\">\n",
       "      <th></th>\n",
       "      <th>Loan ID</th>\n",
       "      <th>Has_Job</th>\n",
       "      <th>Own_home</th>\n",
       "      <th>Age_middle</th>\n",
       "      <th>Age_old</th>\n",
       "      <th>Age_young</th>\n",
       "      <th>Credit_Rating_excellent</th>\n",
       "      <th>Credit_Rating_fair</th>\n",
       "      <th>Credit_Rating_good</th>\n",
       "    </tr>\n",
       "  </thead>\n",
       "  <tbody>\n",
       "    <tr>\n",
       "      <th>0</th>\n",
       "      <td>1</td>\n",
       "      <td>1</td>\n",
       "      <td>1</td>\n",
       "      <td>0</td>\n",
       "      <td>0</td>\n",
       "      <td>1</td>\n",
       "      <td>0</td>\n",
       "      <td>0</td>\n",
       "      <td>1</td>\n",
       "    </tr>\n",
       "    <tr>\n",
       "      <th>1</th>\n",
       "      <td>2</td>\n",
       "      <td>0</td>\n",
       "      <td>0</td>\n",
       "      <td>0</td>\n",
       "      <td>0</td>\n",
       "      <td>1</td>\n",
       "      <td>0</td>\n",
       "      <td>1</td>\n",
       "      <td>0</td>\n",
       "    </tr>\n",
       "    <tr>\n",
       "      <th>2</th>\n",
       "      <td>3</td>\n",
       "      <td>0</td>\n",
       "      <td>1</td>\n",
       "      <td>1</td>\n",
       "      <td>0</td>\n",
       "      <td>0</td>\n",
       "      <td>1</td>\n",
       "      <td>0</td>\n",
       "      <td>0</td>\n",
       "    </tr>\n",
       "    <tr>\n",
       "      <th>3</th>\n",
       "      <td>4</td>\n",
       "      <td>0</td>\n",
       "      <td>0</td>\n",
       "      <td>1</td>\n",
       "      <td>0</td>\n",
       "      <td>0</td>\n",
       "      <td>0</td>\n",
       "      <td>0</td>\n",
       "      <td>1</td>\n",
       "    </tr>\n",
       "    <tr>\n",
       "      <th>4</th>\n",
       "      <td>5</td>\n",
       "      <td>1</td>\n",
       "      <td>1</td>\n",
       "      <td>1</td>\n",
       "      <td>0</td>\n",
       "      <td>0</td>\n",
       "      <td>0</td>\n",
       "      <td>0</td>\n",
       "      <td>1</td>\n",
       "    </tr>\n",
       "    <tr>\n",
       "      <th>5</th>\n",
       "      <td>6</td>\n",
       "      <td>0</td>\n",
       "      <td>0</td>\n",
       "      <td>0</td>\n",
       "      <td>0</td>\n",
       "      <td>1</td>\n",
       "      <td>0</td>\n",
       "      <td>1</td>\n",
       "      <td>0</td>\n",
       "    </tr>\n",
       "    <tr>\n",
       "      <th>6</th>\n",
       "      <td>7</td>\n",
       "      <td>0</td>\n",
       "      <td>0</td>\n",
       "      <td>1</td>\n",
       "      <td>0</td>\n",
       "      <td>0</td>\n",
       "      <td>0</td>\n",
       "      <td>1</td>\n",
       "      <td>0</td>\n",
       "    </tr>\n",
       "    <tr>\n",
       "      <th>7</th>\n",
       "      <td>8</td>\n",
       "      <td>1</td>\n",
       "      <td>0</td>\n",
       "      <td>0</td>\n",
       "      <td>1</td>\n",
       "      <td>0</td>\n",
       "      <td>1</td>\n",
       "      <td>0</td>\n",
       "      <td>0</td>\n",
       "    </tr>\n",
       "    <tr>\n",
       "      <th>8</th>\n",
       "      <td>9</td>\n",
       "      <td>0</td>\n",
       "      <td>0</td>\n",
       "      <td>0</td>\n",
       "      <td>1</td>\n",
       "      <td>0</td>\n",
       "      <td>0</td>\n",
       "      <td>1</td>\n",
       "      <td>0</td>\n",
       "    </tr>\n",
       "    <tr>\n",
       "      <th>9</th>\n",
       "      <td>10</td>\n",
       "      <td>0</td>\n",
       "      <td>0</td>\n",
       "      <td>0</td>\n",
       "      <td>0</td>\n",
       "      <td>1</td>\n",
       "      <td>0</td>\n",
       "      <td>0</td>\n",
       "      <td>1</td>\n",
       "    </tr>\n",
       "    <tr>\n",
       "      <th>10</th>\n",
       "      <td>11</td>\n",
       "      <td>0</td>\n",
       "      <td>1</td>\n",
       "      <td>0</td>\n",
       "      <td>1</td>\n",
       "      <td>0</td>\n",
       "      <td>1</td>\n",
       "      <td>0</td>\n",
       "      <td>0</td>\n",
       "    </tr>\n",
       "    <tr>\n",
       "      <th>11</th>\n",
       "      <td>12</td>\n",
       "      <td>0</td>\n",
       "      <td>1</td>\n",
       "      <td>1</td>\n",
       "      <td>0</td>\n",
       "      <td>0</td>\n",
       "      <td>1</td>\n",
       "      <td>0</td>\n",
       "      <td>0</td>\n",
       "    </tr>\n",
       "    <tr>\n",
       "      <th>12</th>\n",
       "      <td>13</td>\n",
       "      <td>0</td>\n",
       "      <td>1</td>\n",
       "      <td>0</td>\n",
       "      <td>1</td>\n",
       "      <td>0</td>\n",
       "      <td>0</td>\n",
       "      <td>0</td>\n",
       "      <td>1</td>\n",
       "    </tr>\n",
       "    <tr>\n",
       "      <th>13</th>\n",
       "      <td>14</td>\n",
       "      <td>1</td>\n",
       "      <td>0</td>\n",
       "      <td>0</td>\n",
       "      <td>1</td>\n",
       "      <td>0</td>\n",
       "      <td>0</td>\n",
       "      <td>0</td>\n",
       "      <td>1</td>\n",
       "    </tr>\n",
       "    <tr>\n",
       "      <th>14</th>\n",
       "      <td>15</td>\n",
       "      <td>1</td>\n",
       "      <td>1</td>\n",
       "      <td>0</td>\n",
       "      <td>0</td>\n",
       "      <td>1</td>\n",
       "      <td>0</td>\n",
       "      <td>1</td>\n",
       "      <td>0</td>\n",
       "    </tr>\n",
       "  </tbody>\n",
       "</table>\n",
       "</div>"
      ],
      "text/plain": [
       "    Loan ID  Has_Job  Own_home  Age_middle  Age_old  Age_young  \\\n",
       "0         1        1         1           0        0          1   \n",
       "1         2        0         0           0        0          1   \n",
       "2         3        0         1           1        0          0   \n",
       "3         4        0         0           1        0          0   \n",
       "4         5        1         1           1        0          0   \n",
       "5         6        0         0           0        0          1   \n",
       "6         7        0         0           1        0          0   \n",
       "7         8        1         0           0        1          0   \n",
       "8         9        0         0           0        1          0   \n",
       "9        10        0         0           0        0          1   \n",
       "10       11        0         1           0        1          0   \n",
       "11       12        0         1           1        0          0   \n",
       "12       13        0         1           0        1          0   \n",
       "13       14        1         0           0        1          0   \n",
       "14       15        1         1           0        0          1   \n",
       "\n",
       "    Credit_Rating_excellent  Credit_Rating_fair  Credit_Rating_good  \n",
       "0                         0                   0                   1  \n",
       "1                         0                   1                   0  \n",
       "2                         1                   0                   0  \n",
       "3                         0                   0                   1  \n",
       "4                         0                   0                   1  \n",
       "5                         0                   1                   0  \n",
       "6                         0                   1                   0  \n",
       "7                         1                   0                   0  \n",
       "8                         0                   1                   0  \n",
       "9                         0                   0                   1  \n",
       "10                        1                   0                   0  \n",
       "11                        1                   0                   0  \n",
       "12                        0                   0                   1  \n",
       "13                        0                   0                   1  \n",
       "14                        0                   1                   0  "
      ]
     },
     "execution_count": 40,
     "metadata": {},
     "output_type": "execute_result"
    }
   ],
   "source": []
  },
  {
   "cell_type": "code",
   "execution_count": 41,
   "metadata": {},
   "outputs": [],
   "source": [
    "test = pd.read_csv(\"to_classify.csv\")"
   ]
  },
  {
   "cell_type": "code",
   "execution_count": 43,
   "metadata": {},
   "outputs": [],
   "source": [
    "test = pd.get_dummies(test, columns = [\"Age\",\"Credit_Rating\"])"
   ]
  },
  {
   "cell_type": "code",
   "execution_count": 46,
   "metadata": {},
   "outputs": [],
   "source": [
    "test[\"Age_old\"] = 0\n",
    "test[\"Age_middle\"] = 0\n",
    "test[\"Credit_Rating_fair\"]=0\n",
    "test[\"Credit_Rating_excellent\"]=0"
   ]
  },
  {
   "cell_type": "code",
   "execution_count": 47,
   "metadata": {},
   "outputs": [
    {
     "data": {
      "text/plain": [
       "array([0.70394556])"
      ]
     },
     "execution_count": 47,
     "metadata": {},
     "output_type": "execute_result"
    }
   ],
   "source": [
    "models[\"ridge\"].predict(test)"
   ]
  },
  {
   "cell_type": "code",
   "execution_count": null,
   "metadata": {},
   "outputs": [],
   "source": []
  }
 ],
 "metadata": {
  "kernelspec": {
   "display_name": "Python 3",
   "language": "python",
   "name": "python3"
  },
  "language_info": {
   "codemirror_mode": {
    "name": "ipython",
    "version": 3
   },
   "file_extension": ".py",
   "mimetype": "text/x-python",
   "name": "python",
   "nbconvert_exporter": "python",
   "pygments_lexer": "ipython3",
   "version": "3.7.7"
  }
 },
 "nbformat": 4,
 "nbformat_minor": 4
}
