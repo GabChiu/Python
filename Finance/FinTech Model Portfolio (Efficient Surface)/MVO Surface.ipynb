{
 "cells": [
  {
   "cell_type": "code",
   "execution_count": 1,
   "metadata": {},
   "outputs": [],
   "source": [
    "import numpy as np\n",
    "import pandas as pd\n",
    "import seaborn as sns\n",
    "from matplotlib import pyplot as plt\n",
    "from pandas_datareader import data\n",
    "import scipy.optimize as sco\n",
    "from datetime import date"
   ]
  },
  {
   "cell_type": "code",
   "execution_count": 58,
   "metadata": {},
   "outputs": [],
   "source": [
    "csvFile = pd.read_csv(\"Tickers.csv\")\n",
    "# drop RUB denominated as unable to programatically find FX rate\n",
    "csvFile = csvFile[csvFile.Currency!=\"RUB\"]\n",
    "csvFile.reset_index(drop=True, inplace=True)"
   ]
  },
  {
   "cell_type": "code",
   "execution_count": null,
   "metadata": {},
   "outputs": [],
   "source": [
    "# FX translation\n",
    "usdAUD = data.DataReader(\"DEXUSAL\",\"fred\") # convention USD/AUD\n",
    "usdEUR = data.DataReader(\"DEXUSEU\",\"fred\") # convention EUR/USD\n",
    "usdCHF = data.DataReader(\"DEXSZUS\",\"fred\") # convention CHF/USD\n",
    "usdDKK = data.DataReader(\"DEXDNUS\",\"fred\") # convention DKK/USD\n",
    "usdJPY = data.DataReader(\"DEXJPUS\",\"fred\") # convention JPY/USD\n",
    "usdHKD = data.DataReader(\"DEXHKUS\",\"fred\") # convention HKD/USD\n",
    "usdBRL = data.DataReader(\"DEXBZUS\",\"fred\") # convention BRL/USD"
   ]
  },
  {
   "cell_type": "markdown",
   "metadata": {},
   "source": [
    "Currently the script is designed to only work a single market at a time. Specifically it drops all non-US stocks from the investment universe defined in the variable \"csvFile\".\n",
    "\n",
    "Next steps: incorporate FX translations and date adjustments (differing holidays mean different markets are closed at different times for example) between the different markets so that it can handle a global investment universe"
   ]
  },
  {
   "cell_type": "code",
   "execution_count": 59,
   "metadata": {},
   "outputs": [],
   "source": [
    "# divide tickers by geography\n",
    "usTicker = []\n",
    "for i in csvFile.index:\n",
    "    if csvFile.Currency.iloc[i] == \"USD\":\n",
    "        usTicker.append(csvFile.Ticker.iloc[i])"
   ]
  },
  {
   "cell_type": "code",
   "execution_count": 60,
   "metadata": {},
   "outputs": [],
   "source": [
    "start = date(2000,1,1)\n",
    "end = date(2020,10,16)\n",
    "usTickersData = data.DataReader(usTicker,start=start, end = end, data_source=\"yahoo\")[\"Adj Close\"]\n",
    "#usTickersData = usTickersData.dropna(axis='rows')\n",
    "returns = usTickersData.pct_change()\n",
    "expected_returns = returns.mean()\n",
    "cov_matrix = returns.cov()"
   ]
  },
  {
   "cell_type": "code",
   "execution_count": 69,
   "metadata": {},
   "outputs": [],
   "source": [
    "def portfolio_performance(weights, expected_returns, cov_matrix):\n",
    "    \"\"\"\n",
    "    Returns the portfolio's expected return and standard deviation\n",
    "    \n",
    "    expected returns and cov_matrix variables are expected to be daily values\n",
    "    \"\"\"\n",
    "\n",
    "    pf_return = np.sum(weights*expected_returns)*252\n",
    "    pf_std = np.sqrt(np.dot(weights.T,np.dot(cov_matrix, weights)))*np.sqrt(252)\n",
    "    return pf_return, pf_std\n",
    "\n",
    "def negative_sharpe(weights, expected_returns, cov_matrix, risk_free):\n",
    "    '''\n",
    "    Calculates the negative Sharpe ratio\n",
    "    args:\n",
    "    weights -- portfolio weights\n",
    "    expected_ returns -- mean returns\n",
    "    cov_matrix -- covariance matrix\n",
    "    risk_free -- risk free rate\n",
    "    '''\n",
    "    pf_return, pf_std = portfolio_performance(weights, expected_returns, cov_matrix)\n",
    "    neg_sharpe = - (pf_return - risk_free)/pf_std\n",
    "    return neg_sharpe\n",
    "\n",
    "def portfolio_vol(weights, expected_returns, cov_matrix):\n",
    "    return portfolio_performance(weights, expected_returns, cov_matrix)[1]\n",
    "\n",
    "def max_sharpe_ratio(expected_returns, cov_matrix, risk_free):\n",
    "    \"\"\"\n",
    "    Calculates the maximimum sharpe ratio portfolio by formulating an optimization problem.\n",
    "    \"\"\"\n",
    "    size_portfolio = expected_returns.count()\n",
    "    bounds = tuple((0, 1) for x in range(size_portfolio))\n",
    "    constraints = ({'type': 'eq', 'fun': lambda x: np.sum(x) -1})\n",
    "    scale = size_portfolio * [1./size_portfolio] # initialize at equal weights\n",
    "    args = (expected_returns, cov_matrix, risk_free) #args to be passed to optimising function\n",
    "    results = sco.minimize(negative_sharpe, scale, args=args, method=\"SLSQP\", bounds=bounds, constraints=constraints)\n",
    "    return results\n",
    "\n",
    "def min_var(expected_returns, cov_matrix):\n",
    "    \"\"\"\n",
    "    Calculates the minimum variance portfolio by formulating an optimization problem.\n",
    "    \"\"\"\n",
    "    size_portfolio = expected_returns.count()\n",
    "    bounds = tuple((0, 1) for x in range(size_portfolio))\n",
    "    constraints = ({'type': 'eq', 'fun': lambda x: np.sum(x) -1})\n",
    "    scale = size_portfolio * [1./size_portfolio] # initialize at equal weights\n",
    "    args = (expected_returns, cov_matrix) #args to be passed to optimising function\n",
    "    results = sco.minimize(portfolio_vol, scale, args=args, method=\"SLSQP\", bounds=bounds, constraints=constraints)\n",
    "    return results\n",
    "\n",
    "def portfolio_return(weights, expected_returns, cov_matrix):\n",
    "    return portfolio_performance(weights, expected_returns, cov_matrix)[0]\n",
    "\n",
    "def eff_return(expected_returns, cov_matrix, target_return):\n",
    "    '''\n",
    "    Calculate the optimal portfolio construction for target_return\n",
    "    '''\n",
    "    \n",
    "    size_portfolio = expected_returns.count()\n",
    "    constraints = ({'type':'eq','fun': lambda x:portfolio_return(x, expected_returns, cov_matrix)-target_return},\n",
    "                   {'type':'eq', 'fun': lambda x:np.sum(x)-1})\n",
    "    bounds = tuple((0, 1) for x in range(size_portfolio))\n",
    "    scale = size_portfolio * [1./size_portfolio] # initialize at equal weights\n",
    "    args = (expected_returns, cov_matrix) #args to be passed to optimising function\n",
    "    results = sco.minimize(portfolio_vol, scale, args=args, method=\"SLSQP\", bounds=bounds, constraints=constraints)\n",
    "    return results\n",
    "\n",
    "def eff_frontier(expected_returns, cov_matrix, target_range):\n",
    "    '''\n",
    "    \n",
    "    args:\n",
    "    expected_returns -- \n",
    "    cov_matrix -- \n",
    "    target_range -- list of returns to plot\n",
    "    \n",
    "    '''\n",
    "    graph = []\n",
    "    for target in target_range:\n",
    "        graph.append(eff_return(expected_returns, cov_matrix, target))\n",
    "    return graph\n",
    "\n",
    "def mvo(expected_returns, cov_matrix):\n",
    "    '''\n",
    "    Construction of the efficient frontier by applying a linear combination of the Max Sharpe and Min Var portfolios\n",
    "    This function does not allow short-selling in its estimation.\n",
    "    \n",
    "    '''\n",
    "    \n",
    "    max_sharpe = max_sharpe_ratio(expected_returns, cov_matrix, 0.01)\n",
    "    ms_return, ms_std = portfolio_performance(max_sharpe['x'], expected_returns, cov_matrix)\n",
    "    ms_weights = [round(i*100,2) for i in max_sharpe['x']] \n",
    "    ms_allocation = pd.DataFrame(ms_weights, index = expected_returns.index, columns = ['allocation'])\n",
    "    ms_allocation = ms_allocation[ms_allocation != 0].dropna()\n",
    "    \n",
    "    minvar = min_var(expected_returns, cov_matrix)\n",
    "    mv_return, mv_std = portfolio_performance(minvar['x'], expected_returns, cov_matrix)\n",
    "    mv_weights = [round(i*100,2) for i in minvar['x']]\n",
    "    mv_allocation = pd.DataFrame(mv_weights, index = expected_returns.index, columns = ['allocation'])\n",
    "    mv_allocation = mv_allocation[mv_allocation != 0].dropna()\n",
    "    \n",
    "    \n",
    "    with pd.option_context('display.max_rows', None, 'display.max_columns', None):\n",
    "        print(\"Max Sharpe Portfolio Allocation\")\n",
    "        print(\"Expected return: \", ms_return)\n",
    "        print(\"Standard deviation: \", ms_std)\n",
    "        print(ms_allocation.T)\n",
    "        print(\"Min Variance Portfolio Allocation\")\n",
    "        print(\"Expected return: \", mv_return)\n",
    "        print(\"Standard deviation: \", mv_std)\n",
    "        print(mv_allocation.T)\n",
    "        \n",
    "    graph = eff_frontier(expected_returns, cov_matrix, np.linspace(0.1,0.60,40))\n",
    "    \n",
    "    scttr_plt = np.zeros((2,40))\n",
    "    i = 0\n",
    "    for weights in graph:\n",
    "        temp_return, temp_std = portfolio_performance(weights['x'], expected_returns, cov_matrix)\n",
    "        scttr_plt[0,i] = temp_return\n",
    "        scttr_plt[1,i] = temp_std\n",
    "        i += 1\n",
    "\n",
    "    \n",
    "    plt.figure(figsize=(10,7))\n",
    "    plt.scatter(scttr_plt[1,:], scttr_plt[0,:], marker='o')\n",
    "    plt.scatter(ms_std, ms_return, marker=\"*\", color=\"b\", s=100, label=\"Max Sharpe\")\n",
    "    plt.scatter(mv_std, mv_return, marker=\"*\", color=\"r\", s=100, label = \"Min Var\")\n",
    "    plt.xlabel('Annualized volatility')\n",
    "    plt.ylabel('Annualized return')   \n",
    "        "
   ]
  },
  {
   "cell_type": "markdown",
   "metadata": {},
   "source": [
    "The below plot shows the efficient frontier for an unconstrained mean variance optimization efficient frontier"
   ]
  },
  {
   "cell_type": "code",
   "execution_count": 70,
   "metadata": {},
   "outputs": [
    {
     "name": "stdout",
     "output_type": "stream",
     "text": [
      "Max Sharpe Portfolio Allocation\n",
      "Expected return:  1.5342690079141563\n",
      "Standard deviation:  0.316415520682537\n",
      "Symbols     BILL  MITK  TWLO   LSPD   FOUR  PAYS    LX   CNF    DNB\n",
      "allocation  7.51  0.17  1.83  53.88  19.96  0.55  0.37  0.64  15.09\n",
      "Min Variance Portfolio Allocation\n",
      "Expected return:  0.14356081401150056\n",
      "Standard deviation:  0.15498791199553807\n",
      "Symbols      FIS  FISV    BKI  GWRE   VIRT  MITK  TCEHY   ICE  AAPL    FB  \\\n",
      "allocation  2.37   0.6  15.53  0.21  15.62  0.05   3.48  1.01  0.09  2.98   \n",
      "\n",
      "Symbols      TSM  DISCA   HDB   VRSK    WU  EVTC  PAYS  UEPS    JT   EFX  \\\n",
      "allocation  0.83   1.91  0.98  22.32  3.37  0.12   0.1  0.69  1.13  3.52   \n",
      "\n",
      "Symbols      XYF  AIHS    HX   CNF  CLGX   JFU    DNB  \n",
      "allocation  3.44  0.17  1.11  3.73  0.32  0.47  13.84  \n"
     ]
    },
    {
     "data": {
      "image/png": "[encoded data removed]",
      "text/plain": [
       "<Figure size 720x504 with 1 Axes>"
      ]
     },
     "metadata": {
      "needs_background": "light"
     },
     "output_type": "display_data"
    }
   ],
   "source": [
    "mvo(expected_returns, cov_matrix)"
   ]
  },
  {
   "cell_type": "markdown",
   "metadata": {},
   "source": [
    "This variation of the MVO portfolio adds a maximum concentration variable to constrain the weight allocation.\n",
    "\n",
    "One reason you to consider constraining the maximum weight of a stock is to force the portfolio to diversify its holdings. Otherwise, a portfolio can end up with concentrated exposure to a few select stocks. For example, the portfolio above has 27 positions, meaning the average weight is 3.7% but the portfolio is highly concentrated in VIRT at 15.62%, VRS at 22.32%, DNB at 13.84%. Those 3 stocks by themselves account for more than half the portfolio weight"
   ]
  },
  {
   "cell_type": "code",
   "execution_count": 101,
   "metadata": {},
   "outputs": [],
   "source": [
    "def constrainedMVO(expected_returns, cov_matrix, target_return, max_concentration):\n",
    "    '''\n",
    "    Construction of the efficient frontier by applying a linear combination of the Max Sharpe and Min Var portfolios\n",
    "    This function does not allow short-selling in its estimation.\n",
    "    \n",
    "    no position can exceed the max_concentration\n",
    "    \n",
    "    '''\n",
    "    \n",
    "    size_portfolio = expected_returns.count()\n",
    "    constraints = ({'type':'eq','fun': lambda x:portfolio_return(x, expected_returns, cov_matrix)-target_return},\n",
    "                   {'type':'eq', 'fun': lambda x:np.sum(x)-1},\n",
    "                   {'type':'ineq', 'fun':  lambda x:max_concentration-x})\n",
    "    bounds = tuple((0, 1) for x in range(size_portfolio))\n",
    "    scale = size_portfolio * [1./size_portfolio] # initialize at equal weights\n",
    "    args = (expected_returns, cov_matrix) #args to be passed to optimising function\n",
    "    results = sco.minimize(portfolio_vol, scale, args=args, method=\"SLSQP\", bounds=bounds, constraints=constraints)\n",
    "    \n",
    "    portfolio_weights = results[\"x\"].round(2)\n",
    "    return pd.DataFrame(portfolio_weights, index=expected_returns.index, columns=[\"Weights\"])\n",
    "    \n",
    "def surfaceMVO(expected_returns, cov_matrix, max_target, max_concentration):\n",
    "    '''\n",
    "    generate an efficient surface over a range of target returns constrained by an upper limit on any single stock position\n",
    "    '''\n",
    "    \n",
    "    # Vary the target return\n",
    "    target_range = np.linspace(0,max_target,50)\n",
    "    concentration_range = np.linspace(max_concentration, 1, 50)\n",
    "    \n",
    "    graph = []\n",
    "    for target in target_range:\n",
    "        for concentration in concentration_range:\n",
    "            graph.append(constrainedMVO(expected_returns, cov_matrix, target, concentration))\n",
    "    \n",
    "    return graph\n",
    "   \n",
    "\n",
    "    \n",
    "        "
   ]
  },
  {
   "cell_type": "code",
   "execution_count": 102,
   "metadata": {},
   "outputs": [],
   "source": [
    "graph = surfaceMVO(expected_returns, cov_matrix, 0.3, 0.15)"
   ]
  },
  {
   "cell_type": "code",
   "execution_count": 104,
   "metadata": {},
   "outputs": [
    {
     "data": {
      "text/plain": [
       "2500"
      ]
     },
     "execution_count": 104,
     "metadata": {},
     "output_type": "execute_result"
    }
   ],
   "source": []
  },
  {
   "cell_type": "code",
   "execution_count": 105,
   "metadata": {},
   "outputs": [],
   "source": [
    "from mpl_toolkits.mplot3d import Axes3D "
   ]
  },
  {
   "cell_type": "code",
   "execution_count": null,
   "metadata": {},
   "outputs": [],
   "source": []
  },
  {
   "cell_type": "code",
   "execution_count": null,
   "metadata": {},
   "outputs": [],
   "source": []
  }
 ],
 "metadata": {
  "kernelspec": {
   "display_name": "finpy",
   "language": "python",
   "name": "finpy"
  },
  "language_info": {
   "codemirror_mode": {
    "name": "ipython",
    "version": 3
   },
   "file_extension": ".py",
   "mimetype": "text/x-python",
   "name": "python",
   "nbconvert_exporter": "python",
   "pygments_lexer": "ipython3",
   "version": "3.7.1"
  }
 },
 "nbformat": 4,
 "nbformat_minor": 4
}
