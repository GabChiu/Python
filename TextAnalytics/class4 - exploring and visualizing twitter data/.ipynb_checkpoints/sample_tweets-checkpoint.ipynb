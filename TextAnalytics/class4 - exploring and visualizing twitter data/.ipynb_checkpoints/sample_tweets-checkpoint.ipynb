{
 "cells": [
  {
   "cell_type": "code",
   "execution_count": 2,
   "metadata": {},
   "outputs": [],
   "source": [
    "import numpy as np\n",
    "import pandas as pd"
   ]
  },
  {
   "cell_type": "code",
   "execution_count": 3,
   "metadata": {},
   "outputs": [],
   "source": [
    "processed = pd.read_csv(\"processed.csv\")"
   ]
  },
  {
   "cell_type": "code",
   "execution_count": 30,
   "metadata": {},
   "outputs": [
    {
     "data": {
      "text/html": [
       "<div>\n",
       "<style scoped>\n",
       "    .dataframe tbody tr th:only-of-type {\n",
       "        vertical-align: middle;\n",
       "    }\n",
       "\n",
       "    .dataframe tbody tr th {\n",
       "        vertical-align: top;\n",
       "    }\n",
       "\n",
       "    .dataframe thead th {\n",
       "        text-align: right;\n",
       "    }\n",
       "</style>\n",
       "<table border=\"1\" class=\"dataframe\">\n",
       "  <thead>\n",
       "    <tr style=\"text-align: right;\">\n",
       "      <th></th>\n",
       "      <th>id</th>\n",
       "      <th>user_id</th>\n",
       "      <th>created_at</th>\n",
       "      <th>tweet_text</th>\n",
       "      <th>President Obama</th>\n",
       "      <th>Fight climate Change</th>\n",
       "      <th>Judge Garland nomination</th>\n",
       "      <th>White House twitter handle</th>\n",
       "      <th>President Obama live speech</th>\n",
       "    </tr>\n",
       "  </thead>\n",
       "  <tbody>\n",
       "    <tr>\n",
       "      <th>3225</th>\n",
       "      <td>6.485400e+17</td>\n",
       "      <td>813286</td>\n",
       "      <td>9/28/2015 16:47</td>\n",
       "      <td>Don't miss the chance to meet President Obama ...</td>\n",
       "      <td>0.0297</td>\n",
       "      <td>0.0</td>\n",
       "      <td>0.0</td>\n",
       "      <td>0.0000</td>\n",
       "      <td>0.0</td>\n",
       "    </tr>\n",
       "    <tr>\n",
       "      <th>3226</th>\n",
       "      <td>5.130040e+17</td>\n",
       "      <td>813286</td>\n",
       "      <td>9/19/2014 16:39</td>\n",
       "      <td>\"It's not just on the survivors.\" --President ...</td>\n",
       "      <td>0.0490</td>\n",
       "      <td>0.0</td>\n",
       "      <td>0.0</td>\n",
       "      <td>0.0000</td>\n",
       "      <td>0.0</td>\n",
       "    </tr>\n",
       "    <tr>\n",
       "      <th>3227</th>\n",
       "      <td>5.986080e+17</td>\n",
       "      <td>813286</td>\n",
       "      <td>5/13/2015 21:56</td>\n",
       "      <td>It's time for the United States to #LeadOnTrad...</td>\n",
       "      <td>0.0000</td>\n",
       "      <td>0.0</td>\n",
       "      <td>0.0</td>\n",
       "      <td>0.0000</td>\n",
       "      <td>0.0</td>\n",
       "    </tr>\n",
       "    <tr>\n",
       "      <th>3228</th>\n",
       "      <td>6.362850e+17</td>\n",
       "      <td>813286</td>\n",
       "      <td>8/25/2015 21:11</td>\n",
       "      <td>RT @WhiteHouse: \"We refuse to surrender the ho...</td>\n",
       "      <td>0.0000</td>\n",
       "      <td>0.0</td>\n",
       "      <td>0.0</td>\n",
       "      <td>0.0951</td>\n",
       "      <td>0.0</td>\n",
       "    </tr>\n",
       "    <tr>\n",
       "      <th>3229</th>\n",
       "      <td>6.166800e+17</td>\n",
       "      <td>813286</td>\n",
       "      <td>7/2/2015 18:47</td>\n",
       "      <td>\"This morning, we learned that our businesses ...</td>\n",
       "      <td>0.0376</td>\n",
       "      <td>0.0</td>\n",
       "      <td>0.0</td>\n",
       "      <td>0.0000</td>\n",
       "      <td>0.0</td>\n",
       "    </tr>\n",
       "  </tbody>\n",
       "</table>\n",
       "</div>"
      ],
      "text/plain": [
       "                id  user_id       created_at  \\\n",
       "3225  6.485400e+17   813286  9/28/2015 16:47   \n",
       "3226  5.130040e+17   813286  9/19/2014 16:39   \n",
       "3227  5.986080e+17   813286  5/13/2015 21:56   \n",
       "3228  6.362850e+17   813286  8/25/2015 21:11   \n",
       "3229  6.166800e+17   813286   7/2/2015 18:47   \n",
       "\n",
       "                                             tweet_text  President Obama  \\\n",
       "3225  Don't miss the chance to meet President Obama ...           0.0297   \n",
       "3226  \"It's not just on the survivors.\" --President ...           0.0490   \n",
       "3227  It's time for the United States to #LeadOnTrad...           0.0000   \n",
       "3228  RT @WhiteHouse: \"We refuse to surrender the ho...           0.0000   \n",
       "3229  \"This morning, we learned that our businesses ...           0.0376   \n",
       "\n",
       "      Fight climate Change  Judge Garland nomination  \\\n",
       "3225                   0.0                       0.0   \n",
       "3226                   0.0                       0.0   \n",
       "3227                   0.0                       0.0   \n",
       "3228                   0.0                       0.0   \n",
       "3229                   0.0                       0.0   \n",
       "\n",
       "      White House twitter handle  President Obama live speech  \n",
       "3225                      0.0000                          0.0  \n",
       "3226                      0.0000                          0.0  \n",
       "3227                      0.0000                          0.0  \n",
       "3228                      0.0951                          0.0  \n",
       "3229                      0.0000                          0.0  "
      ]
     },
     "execution_count": 30,
     "metadata": {},
     "output_type": "execute_result"
    }
   ],
   "source": [
    "processed.tail()"
   ]
  },
  {
   "cell_type": "code",
   "execution_count": 4,
   "metadata": {},
   "outputs": [],
   "source": [
    "from matplotlib import pyplot"
   ]
  },
  {
   "cell_type": "code",
   "execution_count": 5,
   "metadata": {},
   "outputs": [],
   "source": [
    "processed[\"datetime\"] = pd.to_datetime(processed[\"created_at\"])\n",
    "import datetime as dt\n",
    "processed[\"dates\"] = processed.datetime.dt.date\n",
    "processed[\"time\"] = processed.datetime.dt.time"
   ]
  },
  {
   "cell_type": "code",
   "execution_count": 6,
   "metadata": {},
   "outputs": [
    {
     "data": {
      "text/html": [
       "<div>\n",
       "<style scoped>\n",
       "    .dataframe tbody tr th:only-of-type {\n",
       "        vertical-align: middle;\n",
       "    }\n",
       "\n",
       "    .dataframe tbody tr th {\n",
       "        vertical-align: top;\n",
       "    }\n",
       "\n",
       "    .dataframe thead th {\n",
       "        text-align: right;\n",
       "    }\n",
       "</style>\n",
       "<table border=\"1\" class=\"dataframe\">\n",
       "  <thead>\n",
       "    <tr style=\"text-align: right;\">\n",
       "      <th></th>\n",
       "      <th>id</th>\n",
       "      <th>user_id</th>\n",
       "      <th>created_at</th>\n",
       "      <th>tweet_text</th>\n",
       "      <th>President Obama</th>\n",
       "      <th>Fight climate Change</th>\n",
       "      <th>Judge Garland nomination</th>\n",
       "      <th>White House twitter handle</th>\n",
       "      <th>President Obama live speech</th>\n",
       "      <th>datetime</th>\n",
       "      <th>dates</th>\n",
       "      <th>time</th>\n",
       "    </tr>\n",
       "  </thead>\n",
       "  <tbody>\n",
       "    <tr>\n",
       "      <th>0</th>\n",
       "      <td>6.711320e+17</td>\n",
       "      <td>813286</td>\n",
       "      <td>11/30/2015 1:00</td>\n",
       "      <td>RT @FactsOnClimate: BREAKING: @POTUS joins 19 ...</td>\n",
       "      <td>0.000</td>\n",
       "      <td>0.0</td>\n",
       "      <td>0.000</td>\n",
       "      <td>0.0494</td>\n",
       "      <td>0.0</td>\n",
       "      <td>2015-11-30 01:00:00</td>\n",
       "      <td>2015-11-30</td>\n",
       "      <td>01:00:00</td>\n",
       "    </tr>\n",
       "    <tr>\n",
       "      <th>1</th>\n",
       "      <td>5.525760e+17</td>\n",
       "      <td>813286</td>\n",
       "      <td>1/6/2015 21:23</td>\n",
       "      <td>Don't forget: This is why we fought for health...</td>\n",
       "      <td>0.000</td>\n",
       "      <td>0.0</td>\n",
       "      <td>0.000</td>\n",
       "      <td>0.0000</td>\n",
       "      <td>0.0</td>\n",
       "      <td>2015-01-06 21:23:00</td>\n",
       "      <td>2015-01-06</td>\n",
       "      <td>21:23:00</td>\n",
       "    </tr>\n",
       "    <tr>\n",
       "      <th>2</th>\n",
       "      <td>5.702980e+17</td>\n",
       "      <td>813286</td>\n",
       "      <td>2/24/2015 19:03</td>\n",
       "      <td>Some in Congress would choose not to fund @DHS...</td>\n",
       "      <td>0.000</td>\n",
       "      <td>0.0</td>\n",
       "      <td>0.000</td>\n",
       "      <td>0.0000</td>\n",
       "      <td>0.0</td>\n",
       "      <td>2015-02-24 19:03:00</td>\n",
       "      <td>2015-02-24</td>\n",
       "      <td>19:03:00</td>\n",
       "    </tr>\n",
       "    <tr>\n",
       "      <th>3</th>\n",
       "      <td>7.710710e+17</td>\n",
       "      <td>813286</td>\n",
       "      <td>8/31/2016 19:42</td>\n",
       "      <td>Senate leaders need to hear you expect a vote ...</td>\n",
       "      <td>0.000</td>\n",
       "      <td>0.0</td>\n",
       "      <td>0.176</td>\n",
       "      <td>0.0000</td>\n",
       "      <td>0.0</td>\n",
       "      <td>2016-08-31 19:42:00</td>\n",
       "      <td>2016-08-31</td>\n",
       "      <td>19:42:00</td>\n",
       "    </tr>\n",
       "    <tr>\n",
       "      <th>4</th>\n",
       "      <td>5.496150e+17</td>\n",
       "      <td>813286</td>\n",
       "      <td>12/29/2014 17:17</td>\n",
       "      <td>President Obama: \"I won't stop fighting for th...</td>\n",
       "      <td>0.034</td>\n",
       "      <td>0.0</td>\n",
       "      <td>0.000</td>\n",
       "      <td>0.0000</td>\n",
       "      <td>0.0</td>\n",
       "      <td>2014-12-29 17:17:00</td>\n",
       "      <td>2014-12-29</td>\n",
       "      <td>17:17:00</td>\n",
       "    </tr>\n",
       "  </tbody>\n",
       "</table>\n",
       "</div>"
      ],
      "text/plain": [
       "             id  user_id        created_at  \\\n",
       "0  6.711320e+17   813286   11/30/2015 1:00   \n",
       "1  5.525760e+17   813286    1/6/2015 21:23   \n",
       "2  5.702980e+17   813286   2/24/2015 19:03   \n",
       "3  7.710710e+17   813286   8/31/2016 19:42   \n",
       "4  5.496150e+17   813286  12/29/2014 17:17   \n",
       "\n",
       "                                          tweet_text  President Obama  \\\n",
       "0  RT @FactsOnClimate: BREAKING: @POTUS joins 19 ...            0.000   \n",
       "1  Don't forget: This is why we fought for health...            0.000   \n",
       "2  Some in Congress would choose not to fund @DHS...            0.000   \n",
       "3  Senate leaders need to hear you expect a vote ...            0.000   \n",
       "4  President Obama: \"I won't stop fighting for th...            0.034   \n",
       "\n",
       "   Fight climate Change  Judge Garland nomination  White House twitter handle  \\\n",
       "0                   0.0                     0.000                      0.0494   \n",
       "1                   0.0                     0.000                      0.0000   \n",
       "2                   0.0                     0.000                      0.0000   \n",
       "3                   0.0                     0.176                      0.0000   \n",
       "4                   0.0                     0.000                      0.0000   \n",
       "\n",
       "   President Obama live speech            datetime       dates      time  \n",
       "0                          0.0 2015-11-30 01:00:00  2015-11-30  01:00:00  \n",
       "1                          0.0 2015-01-06 21:23:00  2015-01-06  21:23:00  \n",
       "2                          0.0 2015-02-24 19:03:00  2015-02-24  19:03:00  \n",
       "3                          0.0 2016-08-31 19:42:00  2016-08-31  19:42:00  \n",
       "4                          0.0 2014-12-29 17:17:00  2014-12-29  17:17:00  "
      ]
     },
     "execution_count": 6,
     "metadata": {},
     "output_type": "execute_result"
    }
   ],
   "source": [
    "processed.head()\n",
    "    "
   ]
  },
  {
   "cell_type": "code",
   "execution_count": 36,
   "metadata": {},
   "outputs": [],
   "source": [
    "subset = processed[[\"President Obama\", \"Fight climate Change\", \"Judge Garland nomination\", \"White House twitter handle\", \"dates\"]]"
   ]
  },
  {
   "cell_type": "code",
   "execution_count": 37,
   "metadata": {},
   "outputs": [],
   "source": [
    "subset.set_index(\"dates\", inplace=True)"
   ]
  },
  {
   "cell_type": "code",
   "execution_count": 38,
   "metadata": {},
   "outputs": [
    {
     "data": {
      "text/html": [
       "<div>\n",
       "<style scoped>\n",
       "    .dataframe tbody tr th:only-of-type {\n",
       "        vertical-align: middle;\n",
       "    }\n",
       "\n",
       "    .dataframe tbody tr th {\n",
       "        vertical-align: top;\n",
       "    }\n",
       "\n",
       "    .dataframe thead th {\n",
       "        text-align: right;\n",
       "    }\n",
       "</style>\n",
       "<table border=\"1\" class=\"dataframe\">\n",
       "  <thead>\n",
       "    <tr style=\"text-align: right;\">\n",
       "      <th></th>\n",
       "      <th>President Obama</th>\n",
       "      <th>Fight climate Change</th>\n",
       "      <th>Judge Garland nomination</th>\n",
       "      <th>White House twitter handle</th>\n",
       "    </tr>\n",
       "    <tr>\n",
       "      <th>dates</th>\n",
       "      <th></th>\n",
       "      <th></th>\n",
       "      <th></th>\n",
       "      <th></th>\n",
       "    </tr>\n",
       "  </thead>\n",
       "  <tbody>\n",
       "    <tr>\n",
       "      <th>2015-11-30</th>\n",
       "      <td>0.0000</td>\n",
       "      <td>0.0</td>\n",
       "      <td>0.000</td>\n",
       "      <td>0.0494</td>\n",
       "    </tr>\n",
       "    <tr>\n",
       "      <th>2015-01-06</th>\n",
       "      <td>0.0000</td>\n",
       "      <td>0.0</td>\n",
       "      <td>0.000</td>\n",
       "      <td>0.0000</td>\n",
       "    </tr>\n",
       "    <tr>\n",
       "      <th>2015-02-24</th>\n",
       "      <td>0.0000</td>\n",
       "      <td>0.0</td>\n",
       "      <td>0.000</td>\n",
       "      <td>0.0000</td>\n",
       "    </tr>\n",
       "    <tr>\n",
       "      <th>2016-08-31</th>\n",
       "      <td>0.0000</td>\n",
       "      <td>0.0</td>\n",
       "      <td>0.176</td>\n",
       "      <td>0.0000</td>\n",
       "    </tr>\n",
       "    <tr>\n",
       "      <th>2014-12-29</th>\n",
       "      <td>0.0340</td>\n",
       "      <td>0.0</td>\n",
       "      <td>0.000</td>\n",
       "      <td>0.0000</td>\n",
       "    </tr>\n",
       "    <tr>\n",
       "      <th>...</th>\n",
       "      <td>...</td>\n",
       "      <td>...</td>\n",
       "      <td>...</td>\n",
       "      <td>...</td>\n",
       "    </tr>\n",
       "    <tr>\n",
       "      <th>2015-09-28</th>\n",
       "      <td>0.0297</td>\n",
       "      <td>0.0</td>\n",
       "      <td>0.000</td>\n",
       "      <td>0.0000</td>\n",
       "    </tr>\n",
       "    <tr>\n",
       "      <th>2014-09-19</th>\n",
       "      <td>0.0490</td>\n",
       "      <td>0.0</td>\n",
       "      <td>0.000</td>\n",
       "      <td>0.0000</td>\n",
       "    </tr>\n",
       "    <tr>\n",
       "      <th>2015-05-13</th>\n",
       "      <td>0.0000</td>\n",
       "      <td>0.0</td>\n",
       "      <td>0.000</td>\n",
       "      <td>0.0000</td>\n",
       "    </tr>\n",
       "    <tr>\n",
       "      <th>2015-08-25</th>\n",
       "      <td>0.0000</td>\n",
       "      <td>0.0</td>\n",
       "      <td>0.000</td>\n",
       "      <td>0.0951</td>\n",
       "    </tr>\n",
       "    <tr>\n",
       "      <th>2015-07-02</th>\n",
       "      <td>0.0376</td>\n",
       "      <td>0.0</td>\n",
       "      <td>0.000</td>\n",
       "      <td>0.0000</td>\n",
       "    </tr>\n",
       "  </tbody>\n",
       "</table>\n",
       "<p>3230 rows × 4 columns</p>\n",
       "</div>"
      ],
      "text/plain": [
       "            President Obama  Fight climate Change  Judge Garland nomination  \\\n",
       "dates                                                                         \n",
       "2015-11-30           0.0000                   0.0                     0.000   \n",
       "2015-01-06           0.0000                   0.0                     0.000   \n",
       "2015-02-24           0.0000                   0.0                     0.000   \n",
       "2016-08-31           0.0000                   0.0                     0.176   \n",
       "2014-12-29           0.0340                   0.0                     0.000   \n",
       "...                     ...                   ...                       ...   \n",
       "2015-09-28           0.0297                   0.0                     0.000   \n",
       "2014-09-19           0.0490                   0.0                     0.000   \n",
       "2015-05-13           0.0000                   0.0                     0.000   \n",
       "2015-08-25           0.0000                   0.0                     0.000   \n",
       "2015-07-02           0.0376                   0.0                     0.000   \n",
       "\n",
       "            White House twitter handle  \n",
       "dates                                   \n",
       "2015-11-30                      0.0494  \n",
       "2015-01-06                      0.0000  \n",
       "2015-02-24                      0.0000  \n",
       "2016-08-31                      0.0000  \n",
       "2014-12-29                      0.0000  \n",
       "...                                ...  \n",
       "2015-09-28                      0.0000  \n",
       "2014-09-19                      0.0000  \n",
       "2015-05-13                      0.0000  \n",
       "2015-08-25                      0.0951  \n",
       "2015-07-02                      0.0000  \n",
       "\n",
       "[3230 rows x 4 columns]"
      ]
     },
     "execution_count": 38,
     "metadata": {},
     "output_type": "execute_result"
    }
   ],
   "source": [
    "subset"
   ]
  },
  {
   "cell_type": "code",
   "execution_count": 39,
   "metadata": {},
   "outputs": [
    {
     "name": "stderr",
     "output_type": "stream",
     "text": [
      "C:\\Users\\chiugabr\\Anaconda3\\lib\\site-packages\\ipykernel_launcher.py:1: SettingWithCopyWarning: \n",
      "A value is trying to be set on a copy of a slice from a DataFrame.\n",
      "Try using .loc[row_indexer,col_indexer] = value instead\n",
      "\n",
      "See the caveats in the documentation: https://pandas.pydata.org/pandas-docs/stable/user_guide/indexing.html#returning-a-view-versus-a-copy\n",
      "  \"\"\"Entry point for launching an IPython kernel.\n"
     ]
    }
   ],
   "source": [
    "subset['max_col'] = subset.idxmax(axis=1)"
   ]
  },
  {
   "cell_type": "code",
   "execution_count": 40,
   "metadata": {},
   "outputs": [
    {
     "data": {
      "text/html": [
       "<div>\n",
       "<style scoped>\n",
       "    .dataframe tbody tr th:only-of-type {\n",
       "        vertical-align: middle;\n",
       "    }\n",
       "\n",
       "    .dataframe tbody tr th {\n",
       "        vertical-align: top;\n",
       "    }\n",
       "\n",
       "    .dataframe thead th {\n",
       "        text-align: right;\n",
       "    }\n",
       "</style>\n",
       "<table border=\"1\" class=\"dataframe\">\n",
       "  <thead>\n",
       "    <tr style=\"text-align: right;\">\n",
       "      <th></th>\n",
       "      <th>President Obama</th>\n",
       "      <th>Fight climate Change</th>\n",
       "      <th>Judge Garland nomination</th>\n",
       "      <th>White House twitter handle</th>\n",
       "      <th>max_col</th>\n",
       "    </tr>\n",
       "    <tr>\n",
       "      <th>dates</th>\n",
       "      <th></th>\n",
       "      <th></th>\n",
       "      <th></th>\n",
       "      <th></th>\n",
       "      <th></th>\n",
       "    </tr>\n",
       "  </thead>\n",
       "  <tbody>\n",
       "    <tr>\n",
       "      <th>2015-11-30</th>\n",
       "      <td>0.000</td>\n",
       "      <td>0.0</td>\n",
       "      <td>0.000</td>\n",
       "      <td>0.0494</td>\n",
       "      <td>White House twitter handle</td>\n",
       "    </tr>\n",
       "    <tr>\n",
       "      <th>2015-01-06</th>\n",
       "      <td>0.000</td>\n",
       "      <td>0.0</td>\n",
       "      <td>0.000</td>\n",
       "      <td>0.0000</td>\n",
       "      <td>President Obama</td>\n",
       "    </tr>\n",
       "    <tr>\n",
       "      <th>2015-02-24</th>\n",
       "      <td>0.000</td>\n",
       "      <td>0.0</td>\n",
       "      <td>0.000</td>\n",
       "      <td>0.0000</td>\n",
       "      <td>President Obama</td>\n",
       "    </tr>\n",
       "    <tr>\n",
       "      <th>2016-08-31</th>\n",
       "      <td>0.000</td>\n",
       "      <td>0.0</td>\n",
       "      <td>0.176</td>\n",
       "      <td>0.0000</td>\n",
       "      <td>Judge Garland nomination</td>\n",
       "    </tr>\n",
       "    <tr>\n",
       "      <th>2014-12-29</th>\n",
       "      <td>0.034</td>\n",
       "      <td>0.0</td>\n",
       "      <td>0.000</td>\n",
       "      <td>0.0000</td>\n",
       "      <td>President Obama</td>\n",
       "    </tr>\n",
       "  </tbody>\n",
       "</table>\n",
       "</div>"
      ],
      "text/plain": [
       "            President Obama  Fight climate Change  Judge Garland nomination  \\\n",
       "dates                                                                         \n",
       "2015-11-30            0.000                   0.0                     0.000   \n",
       "2015-01-06            0.000                   0.0                     0.000   \n",
       "2015-02-24            0.000                   0.0                     0.000   \n",
       "2016-08-31            0.000                   0.0                     0.176   \n",
       "2014-12-29            0.034                   0.0                     0.000   \n",
       "\n",
       "            White House twitter handle                     max_col  \n",
       "dates                                                               \n",
       "2015-11-30                      0.0494  White House twitter handle  \n",
       "2015-01-06                      0.0000             President Obama  \n",
       "2015-02-24                      0.0000             President Obama  \n",
       "2016-08-31                      0.0000    Judge Garland nomination  \n",
       "2014-12-29                      0.0000             President Obama  "
      ]
     },
     "execution_count": 40,
     "metadata": {},
     "output_type": "execute_result"
    }
   ],
   "source": [
    "subset.head(5)"
   ]
  },
  {
   "cell_type": "code",
   "execution_count": null,
   "metadata": {},
   "outputs": [],
   "source": []
  },
  {
   "cell_type": "code",
   "execution_count": 43,
   "metadata": {},
   "outputs": [
    {
     "data": {
      "text/plain": [
       "<matplotlib.collections.PathCollection at 0x1ab0a5fb948>"
      ]
     },
     "execution_count": 43,
     "metadata": {},
     "output_type": "execute_result"
    },
    {
     "data": {
      "image/png": "[encoded data removed]",
      "text/plain": [
       "<Figure size 720x720 with 1 Axes>"
      ]
     },
     "metadata": {
      "needs_background": "light"
     },
     "output_type": "display_data"
    }
   ],
   "source": [
    "pyplot.figure(figsize=(10,10))\n",
    "pyplot.scatter(x=subset.index, y=subset.max_col)"
   ]
  },
  {
   "cell_type": "code",
   "execution_count": 41,
   "metadata": {},
   "outputs": [
    {
     "data": {
      "text/plain": [
       "dates\n",
       "2015-11-30    White House twitter handle\n",
       "2015-01-06               President Obama\n",
       "2015-02-24               President Obama\n",
       "2016-08-31      Judge Garland nomination\n",
       "2014-12-29               President Obama\n",
       "                         ...            \n",
       "2015-09-28               President Obama\n",
       "2014-09-19               President Obama\n",
       "2015-05-13               President Obama\n",
       "2015-08-25    White House twitter handle\n",
       "2015-07-02               President Obama\n",
       "Name: max_col, Length: 3230, dtype: object"
      ]
     },
     "execution_count": 41,
     "metadata": {},
     "output_type": "execute_result"
    }
   ],
   "source": [
    "subset.max_col"
   ]
  },
  {
   "cell_type": "code",
   "execution_count": 29,
   "metadata": {},
   "outputs": [
    {
     "data": {
      "text/plain": [
       "<bound method DataFrame.max of             President Obama  Fight climate Change  Judge Garland nomination  \\\n",
       "dates                                                                         \n",
       "2015-11-30           0.0000                   0.0                     0.000   \n",
       "2015-01-06           0.0000                   0.0                     0.000   \n",
       "2015-02-24           0.0000                   0.0                     0.000   \n",
       "2016-08-31           0.0000                   0.0                     0.176   \n",
       "2014-12-29           0.0340                   0.0                     0.000   \n",
       "...                     ...                   ...                       ...   \n",
       "2015-09-28           0.0297                   0.0                     0.000   \n",
       "2014-09-19           0.0490                   0.0                     0.000   \n",
       "2015-05-13           0.0000                   0.0                     0.000   \n",
       "2015-08-25           0.0000                   0.0                     0.000   \n",
       "2015-07-02           0.0376                   0.0                     0.000   \n",
       "\n",
       "            White House twitter handle                         max  \n",
       "dates                                                               \n",
       "2015-11-30                      0.0494  White House twitter handle  \n",
       "2015-01-06                      0.0000             President Obama  \n",
       "2015-02-24                      0.0000             President Obama  \n",
       "2016-08-31                      0.0000    Judge Garland nomination  \n",
       "2014-12-29                      0.0000             President Obama  \n",
       "...                                ...                         ...  \n",
       "2015-09-28                      0.0000             President Obama  \n",
       "2014-09-19                      0.0000             President Obama  \n",
       "2015-05-13                      0.0000             President Obama  \n",
       "2015-08-25                      0.0951  White House twitter handle  \n",
       "2015-07-02                      0.0000             President Obama  \n",
       "\n",
       "[3230 rows x 5 columns]>"
      ]
     },
     "execution_count": 29,
     "metadata": {},
     "output_type": "execute_result"
    }
   ],
   "source": [
    "subset.max("
   ]
  },
  {
   "cell_type": "code",
   "execution_count": 18,
   "metadata": {},
   "outputs": [
    {
     "data": {
      "text/html": [
       "<div>\n",
       "<style scoped>\n",
       "    .dataframe tbody tr th:only-of-type {\n",
       "        vertical-align: middle;\n",
       "    }\n",
       "\n",
       "    .dataframe tbody tr th {\n",
       "        vertical-align: top;\n",
       "    }\n",
       "\n",
       "    .dataframe thead th {\n",
       "        text-align: right;\n",
       "    }\n",
       "</style>\n",
       "<table border=\"1\" class=\"dataframe\">\n",
       "  <thead>\n",
       "    <tr style=\"text-align: right;\">\n",
       "      <th></th>\n",
       "      <th>President Obama</th>\n",
       "      <th>Fight climate Change</th>\n",
       "      <th>Judge Garland nomination</th>\n",
       "      <th>White House twitter handle</th>\n",
       "      <th>dates</th>\n",
       "    </tr>\n",
       "  </thead>\n",
       "  <tbody>\n",
       "    <tr>\n",
       "      <th>0</th>\n",
       "      <td>0.0000</td>\n",
       "      <td>0.0</td>\n",
       "      <td>0.000</td>\n",
       "      <td>0.0494</td>\n",
       "      <td>2015-11-30</td>\n",
       "    </tr>\n",
       "    <tr>\n",
       "      <th>1</th>\n",
       "      <td>0.0000</td>\n",
       "      <td>0.0</td>\n",
       "      <td>0.000</td>\n",
       "      <td>0.0000</td>\n",
       "      <td>2015-01-06</td>\n",
       "    </tr>\n",
       "    <tr>\n",
       "      <th>2</th>\n",
       "      <td>0.0000</td>\n",
       "      <td>0.0</td>\n",
       "      <td>0.000</td>\n",
       "      <td>0.0000</td>\n",
       "      <td>2015-02-24</td>\n",
       "    </tr>\n",
       "    <tr>\n",
       "      <th>3</th>\n",
       "      <td>0.0000</td>\n",
       "      <td>0.0</td>\n",
       "      <td>0.176</td>\n",
       "      <td>0.0000</td>\n",
       "      <td>2016-08-31</td>\n",
       "    </tr>\n",
       "    <tr>\n",
       "      <th>4</th>\n",
       "      <td>0.0340</td>\n",
       "      <td>0.0</td>\n",
       "      <td>0.000</td>\n",
       "      <td>0.0000</td>\n",
       "      <td>2014-12-29</td>\n",
       "    </tr>\n",
       "    <tr>\n",
       "      <th>...</th>\n",
       "      <td>...</td>\n",
       "      <td>...</td>\n",
       "      <td>...</td>\n",
       "      <td>...</td>\n",
       "      <td>...</td>\n",
       "    </tr>\n",
       "    <tr>\n",
       "      <th>3225</th>\n",
       "      <td>0.0297</td>\n",
       "      <td>0.0</td>\n",
       "      <td>0.000</td>\n",
       "      <td>0.0000</td>\n",
       "      <td>2015-09-28</td>\n",
       "    </tr>\n",
       "    <tr>\n",
       "      <th>3226</th>\n",
       "      <td>0.0490</td>\n",
       "      <td>0.0</td>\n",
       "      <td>0.000</td>\n",
       "      <td>0.0000</td>\n",
       "      <td>2014-09-19</td>\n",
       "    </tr>\n",
       "    <tr>\n",
       "      <th>3227</th>\n",
       "      <td>0.0000</td>\n",
       "      <td>0.0</td>\n",
       "      <td>0.000</td>\n",
       "      <td>0.0000</td>\n",
       "      <td>2015-05-13</td>\n",
       "    </tr>\n",
       "    <tr>\n",
       "      <th>3228</th>\n",
       "      <td>0.0000</td>\n",
       "      <td>0.0</td>\n",
       "      <td>0.000</td>\n",
       "      <td>0.0951</td>\n",
       "      <td>2015-08-25</td>\n",
       "    </tr>\n",
       "    <tr>\n",
       "      <th>3229</th>\n",
       "      <td>0.0376</td>\n",
       "      <td>0.0</td>\n",
       "      <td>0.000</td>\n",
       "      <td>0.0000</td>\n",
       "      <td>2015-07-02</td>\n",
       "    </tr>\n",
       "  </tbody>\n",
       "</table>\n",
       "<p>3230 rows × 5 columns</p>\n",
       "</div>"
      ],
      "text/plain": [
       "      President Obama  Fight climate Change  Judge Garland nomination  \\\n",
       "0              0.0000                   0.0                     0.000   \n",
       "1              0.0000                   0.0                     0.000   \n",
       "2              0.0000                   0.0                     0.000   \n",
       "3              0.0000                   0.0                     0.176   \n",
       "4              0.0340                   0.0                     0.000   \n",
       "...               ...                   ...                       ...   \n",
       "3225           0.0297                   0.0                     0.000   \n",
       "3226           0.0490                   0.0                     0.000   \n",
       "3227           0.0000                   0.0                     0.000   \n",
       "3228           0.0000                   0.0                     0.000   \n",
       "3229           0.0376                   0.0                     0.000   \n",
       "\n",
       "      White House twitter handle       dates  \n",
       "0                         0.0494  2015-11-30  \n",
       "1                         0.0000  2015-01-06  \n",
       "2                         0.0000  2015-02-24  \n",
       "3                         0.0000  2016-08-31  \n",
       "4                         0.0000  2014-12-29  \n",
       "...                          ...         ...  \n",
       "3225                      0.0000  2015-09-28  \n",
       "3226                      0.0000  2014-09-19  \n",
       "3227                      0.0000  2015-05-13  \n",
       "3228                      0.0951  2015-08-25  \n",
       "3229                      0.0000  2015-07-02  \n",
       "\n",
       "[3230 rows x 5 columns]"
      ]
     },
     "execution_count": 18,
     "metadata": {},
     "output_type": "execute_result"
    }
   ],
   "source": [
    "subset"
   ]
  },
  {
   "cell_type": "code",
   "execution_count": 53,
   "metadata": {},
   "outputs": [
    {
     "data": {
      "text/plain": [
       "<matplotlib.axes._subplots.AxesSubplot at 0x266b133eac8>"
      ]
     },
     "execution_count": 53,
     "metadata": {},
     "output_type": "execute_result"
    },
    {
     "data": {
      "image/png": "[encoded data removed]",
      "text/plain": [
       "<Figure size 432x288 with 1 Axes>"
      ]
     },
     "metadata": {
      "needs_background": "light"
     },
     "output_type": "display_data"
    }
   ],
   "source": [
    "processed.time.value_counts().plot()"
   ]
  },
  {
   "cell_type": "code",
   "execution_count": 71,
   "metadata": {},
   "outputs": [],
   "source": [
    "temp=processed[[\"President Obama\", \"time\"]]"
   ]
  },
  {
   "cell_type": "code",
   "execution_count": 62,
   "metadata": {},
   "outputs": [
    {
     "data": {
      "text/html": [
       "<div>\n",
       "<style scoped>\n",
       "    .dataframe tbody tr th:only-of-type {\n",
       "        vertical-align: middle;\n",
       "    }\n",
       "\n",
       "    .dataframe tbody tr th {\n",
       "        vertical-align: top;\n",
       "    }\n",
       "\n",
       "    .dataframe thead th {\n",
       "        text-align: right;\n",
       "    }\n",
       "</style>\n",
       "<table border=\"1\" class=\"dataframe\">\n",
       "  <thead>\n",
       "    <tr style=\"text-align: right;\">\n",
       "      <th></th>\n",
       "      <th>President Obama</th>\n",
       "      <th>dates</th>\n",
       "    </tr>\n",
       "  </thead>\n",
       "  <tbody>\n",
       "    <tr>\n",
       "      <th>0</th>\n",
       "      <td>0.000</td>\n",
       "      <td>2015-11-30</td>\n",
       "    </tr>\n",
       "    <tr>\n",
       "      <th>1</th>\n",
       "      <td>0.000</td>\n",
       "      <td>2015-01-06</td>\n",
       "    </tr>\n",
       "    <tr>\n",
       "      <th>2</th>\n",
       "      <td>0.000</td>\n",
       "      <td>2015-02-24</td>\n",
       "    </tr>\n",
       "    <tr>\n",
       "      <th>3</th>\n",
       "      <td>0.000</td>\n",
       "      <td>2016-08-31</td>\n",
       "    </tr>\n",
       "    <tr>\n",
       "      <th>4</th>\n",
       "      <td>0.034</td>\n",
       "      <td>2014-12-29</td>\n",
       "    </tr>\n",
       "  </tbody>\n",
       "</table>\n",
       "</div>"
      ],
      "text/plain": [
       "   President Obama       dates\n",
       "0            0.000  2015-11-30\n",
       "1            0.000  2015-01-06\n",
       "2            0.000  2015-02-24\n",
       "3            0.000  2016-08-31\n",
       "4            0.034  2014-12-29"
      ]
     },
     "execution_count": 62,
     "metadata": {},
     "output_type": "execute_result"
    }
   ],
   "source": [
    "temp.head()"
   ]
  },
  {
   "cell_type": "code",
   "execution_count": 72,
   "metadata": {},
   "outputs": [],
   "source": [
    "temp = temp.set_index(\"time\")"
   ]
  },
  {
   "cell_type": "code",
   "execution_count": 73,
   "metadata": {},
   "outputs": [
    {
     "data": {
      "text/plain": [
       "<matplotlib.axes._subplots.AxesSubplot at 0x266b4022308>"
      ]
     },
     "execution_count": 73,
     "metadata": {},
     "output_type": "execute_result"
    },
    {
     "data": {
      "image/png": "[encoded data removed]",
      "text/plain": [
       "<Figure size 432x288 with 1 Axes>"
      ]
     },
     "metadata": {
      "needs_background": "light"
     },
     "output_type": "display_data"
    }
   ],
   "source": [
    "temp.plot()"
   ]
  },
  {
   "cell_type": "code",
   "execution_count": null,
   "metadata": {},
   "outputs": [],
   "source": []
  },
  {
   "cell_type": "code",
   "execution_count": null,
   "metadata": {},
   "outputs": [],
   "source": []
  },
  {
   "cell_type": "code",
   "execution_count": null,
   "metadata": {},
   "outputs": [],
   "source": []
  }
 ],
 "metadata": {
  "kernelspec": {
   "display_name": "Python 3",
   "language": "python",
   "name": "python3"
  },
  "language_info": {
   "codemirror_mode": {
    "name": "ipython",
    "version": 3
   },
   "file_extension": ".py",
   "mimetype": "text/x-python",
   "name": "python",
   "nbconvert_exporter": "python",
   "pygments_lexer": "ipython3",
   "version": "3.7.7"
  }
 },
 "nbformat": 4,
 "nbformat_minor": 4
}
