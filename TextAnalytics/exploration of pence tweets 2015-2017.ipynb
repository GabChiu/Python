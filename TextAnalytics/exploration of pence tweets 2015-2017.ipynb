{
 "cells": [
  {
   "cell_type": "code",
   "execution_count": 1,
   "metadata": {},
   "outputs": [],
   "source": [
    "import numpy as np\n",
    "import pandas as pd\n",
    "from matplotlib import pyplot as plt\n",
    "import seaborn as sns"
   ]
  },
  {
   "cell_type": "code",
   "execution_count": 2,
   "metadata": {},
   "outputs": [],
   "source": [
    "data = pd.read_csv(\"pence_tweets_ner.csv\")"
   ]
  },
  {
   "cell_type": "markdown",
   "metadata": {},
   "source": [
    "Explore data"
   ]
  },
  {
   "cell_type": "code",
   "execution_count": 3,
   "metadata": {},
   "outputs": [
    {
     "data": {
      "text/html": [
       "<div>\n",
       "<style scoped>\n",
       "    .dataframe tbody tr th:only-of-type {\n",
       "        vertical-align: middle;\n",
       "    }\n",
       "\n",
       "    .dataframe tbody tr th {\n",
       "        vertical-align: top;\n",
       "    }\n",
       "\n",
       "    .dataframe thead th {\n",
       "        text-align: right;\n",
       "    }\n",
       "</style>\n",
       "<table border=\"1\" class=\"dataframe\">\n",
       "  <thead>\n",
       "    <tr style=\"text-align: right;\">\n",
       "      <th></th>\n",
       "      <th>id</th>\n",
       "      <th>created_at</th>\n",
       "      <th>tweet_text</th>\n",
       "      <th>Entity</th>\n",
       "      <th>Label</th>\n",
       "      <th>Start</th>\n",
       "      <th>End</th>\n",
       "    </tr>\n",
       "  </thead>\n",
       "  <tbody>\n",
       "    <tr>\n",
       "      <th>0</th>\n",
       "      <td>631527288991944704</td>\n",
       "      <td>2015-08-12 18:06:53</td>\n",
       "      <td>Farmers in a total of 88 counties can request ...</td>\n",
       "      <td>88</td>\n",
       "      <td>CARDINAL</td>\n",
       "      <td>22</td>\n",
       "      <td>24</td>\n",
       "    </tr>\n",
       "    <tr>\n",
       "      <th>1</th>\n",
       "      <td>631527288991944704</td>\n",
       "      <td>2015-08-12 18:06:53</td>\n",
       "      <td>Farmers in a total of 88 counties can request ...</td>\n",
       "      <td>FSA</td>\n",
       "      <td>ORG</td>\n",
       "      <td>82</td>\n",
       "      <td>85</td>\n",
       "    </tr>\n",
       "    <tr>\n",
       "      <th>2</th>\n",
       "      <td>715567254969122816</td>\n",
       "      <td>2016-03-31 15:51:42</td>\n",
       "      <td>These new jobs are above the state's avg wage....</td>\n",
       "      <td>@HoistLiftruck manufacturing &amp;amp</td>\n",
       "      <td>ORG</td>\n",
       "      <td>75</td>\n",
       "      <td>108</td>\n",
       "    </tr>\n",
       "    <tr>\n",
       "      <th>3</th>\n",
       "      <td>715567254969122816</td>\n",
       "      <td>2016-03-31 15:51:42</td>\n",
       "      <td>These new jobs are above the state's avg wage....</td>\n",
       "      <td>AStateThatWorks</td>\n",
       "      <td>PERSON</td>\n",
       "      <td>126</td>\n",
       "      <td>141</td>\n",
       "    </tr>\n",
       "    <tr>\n",
       "      <th>4</th>\n",
       "      <td>711985273622507520</td>\n",
       "      <td>2016-03-21 18:38:11</td>\n",
       "      <td>RT @FirstLadyIN: Sweet Jaida introducing me to...</td>\n",
       "      <td>Sweet Jaida</td>\n",
       "      <td>PERSON</td>\n",
       "      <td>17</td>\n",
       "      <td>28</td>\n",
       "    </tr>\n",
       "  </tbody>\n",
       "</table>\n",
       "</div>"
      ],
      "text/plain": [
       "                   id           created_at  \\\n",
       "0  631527288991944704  2015-08-12 18:06:53   \n",
       "1  631527288991944704  2015-08-12 18:06:53   \n",
       "2  715567254969122816  2016-03-31 15:51:42   \n",
       "3  715567254969122816  2016-03-31 15:51:42   \n",
       "4  711985273622507520  2016-03-21 18:38:11   \n",
       "\n",
       "                                          tweet_text  \\\n",
       "0  Farmers in a total of 88 counties can request ...   \n",
       "1  Farmers in a total of 88 counties can request ...   \n",
       "2  These new jobs are above the state's avg wage....   \n",
       "3  These new jobs are above the state's avg wage....   \n",
       "4  RT @FirstLadyIN: Sweet Jaida introducing me to...   \n",
       "\n",
       "                              Entity     Label  Start  End  \n",
       "0                                 88  CARDINAL     22   24  \n",
       "1                                FSA       ORG     82   85  \n",
       "2  @HoistLiftruck manufacturing &amp       ORG     75  108  \n",
       "3                    AStateThatWorks    PERSON    126  141  \n",
       "4                        Sweet Jaida    PERSON     17   28  "
      ]
     },
     "execution_count": 3,
     "metadata": {},
     "output_type": "execute_result"
    }
   ],
   "source": [
    "data.head()"
   ]
  },
  {
   "cell_type": "code",
   "execution_count": 4,
   "metadata": {},
   "outputs": [],
   "source": [
    "data[\"datetime\"] = pd.to_datetime(data[\"created_at\"])\n",
    "import datetime as dt\n",
    "data[\"dates\"] = data.datetime.dt.date\n",
    "data[\"time\"] = data.datetime.dt.time"
   ]
  },
  {
   "cell_type": "code",
   "execution_count": 5,
   "metadata": {},
   "outputs": [
    {
     "data": {
      "text/html": [
       "<div>\n",
       "<style scoped>\n",
       "    .dataframe tbody tr th:only-of-type {\n",
       "        vertical-align: middle;\n",
       "    }\n",
       "\n",
       "    .dataframe tbody tr th {\n",
       "        vertical-align: top;\n",
       "    }\n",
       "\n",
       "    .dataframe thead th {\n",
       "        text-align: right;\n",
       "    }\n",
       "</style>\n",
       "<table border=\"1\" class=\"dataframe\">\n",
       "  <thead>\n",
       "    <tr style=\"text-align: right;\">\n",
       "      <th></th>\n",
       "      <th>id</th>\n",
       "      <th>created_at</th>\n",
       "      <th>tweet_text</th>\n",
       "      <th>Entity</th>\n",
       "      <th>Label</th>\n",
       "      <th>Start</th>\n",
       "      <th>End</th>\n",
       "      <th>datetime</th>\n",
       "      <th>dates</th>\n",
       "      <th>time</th>\n",
       "    </tr>\n",
       "  </thead>\n",
       "  <tbody>\n",
       "    <tr>\n",
       "      <th>0</th>\n",
       "      <td>631527288991944704</td>\n",
       "      <td>2015-08-12 18:06:53</td>\n",
       "      <td>Farmers in a total of 88 counties can request ...</td>\n",
       "      <td>88</td>\n",
       "      <td>CARDINAL</td>\n",
       "      <td>22</td>\n",
       "      <td>24</td>\n",
       "      <td>2015-08-12 18:06:53</td>\n",
       "      <td>2015-08-12</td>\n",
       "      <td>18:06:53</td>\n",
       "    </tr>\n",
       "    <tr>\n",
       "      <th>1</th>\n",
       "      <td>631527288991944704</td>\n",
       "      <td>2015-08-12 18:06:53</td>\n",
       "      <td>Farmers in a total of 88 counties can request ...</td>\n",
       "      <td>FSA</td>\n",
       "      <td>ORG</td>\n",
       "      <td>82</td>\n",
       "      <td>85</td>\n",
       "      <td>2015-08-12 18:06:53</td>\n",
       "      <td>2015-08-12</td>\n",
       "      <td>18:06:53</td>\n",
       "    </tr>\n",
       "    <tr>\n",
       "      <th>2</th>\n",
       "      <td>715567254969122816</td>\n",
       "      <td>2016-03-31 15:51:42</td>\n",
       "      <td>These new jobs are above the state's avg wage....</td>\n",
       "      <td>@HoistLiftruck manufacturing &amp;amp</td>\n",
       "      <td>ORG</td>\n",
       "      <td>75</td>\n",
       "      <td>108</td>\n",
       "      <td>2016-03-31 15:51:42</td>\n",
       "      <td>2016-03-31</td>\n",
       "      <td>15:51:42</td>\n",
       "    </tr>\n",
       "    <tr>\n",
       "      <th>3</th>\n",
       "      <td>715567254969122816</td>\n",
       "      <td>2016-03-31 15:51:42</td>\n",
       "      <td>These new jobs are above the state's avg wage....</td>\n",
       "      <td>AStateThatWorks</td>\n",
       "      <td>PERSON</td>\n",
       "      <td>126</td>\n",
       "      <td>141</td>\n",
       "      <td>2016-03-31 15:51:42</td>\n",
       "      <td>2016-03-31</td>\n",
       "      <td>15:51:42</td>\n",
       "    </tr>\n",
       "    <tr>\n",
       "      <th>4</th>\n",
       "      <td>711985273622507520</td>\n",
       "      <td>2016-03-21 18:38:11</td>\n",
       "      <td>RT @FirstLadyIN: Sweet Jaida introducing me to...</td>\n",
       "      <td>Sweet Jaida</td>\n",
       "      <td>PERSON</td>\n",
       "      <td>17</td>\n",
       "      <td>28</td>\n",
       "      <td>2016-03-21 18:38:11</td>\n",
       "      <td>2016-03-21</td>\n",
       "      <td>18:38:11</td>\n",
       "    </tr>\n",
       "  </tbody>\n",
       "</table>\n",
       "</div>"
      ],
      "text/plain": [
       "                   id           created_at  \\\n",
       "0  631527288991944704  2015-08-12 18:06:53   \n",
       "1  631527288991944704  2015-08-12 18:06:53   \n",
       "2  715567254969122816  2016-03-31 15:51:42   \n",
       "3  715567254969122816  2016-03-31 15:51:42   \n",
       "4  711985273622507520  2016-03-21 18:38:11   \n",
       "\n",
       "                                          tweet_text  \\\n",
       "0  Farmers in a total of 88 counties can request ...   \n",
       "1  Farmers in a total of 88 counties can request ...   \n",
       "2  These new jobs are above the state's avg wage....   \n",
       "3  These new jobs are above the state's avg wage....   \n",
       "4  RT @FirstLadyIN: Sweet Jaida introducing me to...   \n",
       "\n",
       "                              Entity     Label  Start  End  \\\n",
       "0                                 88  CARDINAL     22   24   \n",
       "1                                FSA       ORG     82   85   \n",
       "2  @HoistLiftruck manufacturing &amp       ORG     75  108   \n",
       "3                    AStateThatWorks    PERSON    126  141   \n",
       "4                        Sweet Jaida    PERSON     17   28   \n",
       "\n",
       "             datetime       dates      time  \n",
       "0 2015-08-12 18:06:53  2015-08-12  18:06:53  \n",
       "1 2015-08-12 18:06:53  2015-08-12  18:06:53  \n",
       "2 2016-03-31 15:51:42  2016-03-31  15:51:42  \n",
       "3 2016-03-31 15:51:42  2016-03-31  15:51:42  \n",
       "4 2016-03-21 18:38:11  2016-03-21  18:38:11  "
      ]
     },
     "execution_count": 5,
     "metadata": {},
     "output_type": "execute_result"
    }
   ],
   "source": [
    "data.head()"
   ]
  },
  {
   "cell_type": "markdown",
   "metadata": {},
   "source": [
    "Visualize the tweets over time"
   ]
  },
  {
   "cell_type": "code",
   "execution_count": 6,
   "metadata": {},
   "outputs": [
    {
     "data": {
      "text/plain": [
       "<matplotlib.axes._subplots.AxesSubplot at 0x1e279a24ac8>"
      ]
     },
     "execution_count": 6,
     "metadata": {},
     "output_type": "execute_result"
    },
    {
     "data": {
      "image/png": "[encoded data removed]",
      "text/plain": [
       "<Figure size 432x288 with 1 Axes>"
      ]
     },
     "metadata": {
      "needs_background": "light"
     },
     "output_type": "display_data"
    }
   ],
   "source": [
    "data.time.value_counts().plot()\n"
   ]
  },
  {
   "cell_type": "code",
   "execution_count": 8,
   "metadata": {},
   "outputs": [
    {
     "data": {
      "text/plain": [
       "<matplotlib.collections.PathCollection at 0x1e27e9a74c8>"
      ]
     },
     "execution_count": 8,
     "metadata": {},
     "output_type": "execute_result"
    },
    {
     "data": {
      "image/png": "[encoded data removed]",
      "text/plain": [
       "<Figure size 720x720 with 1 Axes>"
      ]
     },
     "metadata": {
      "needs_background": "light"
     },
     "output_type": "display_data"
    }
   ],
   "source": [
    "plt.figure(figsize=(10,10))\n",
    "plt.scatter(x=data.dates, y= data.Label)\n"
   ]
  },
  {
   "cell_type": "markdown",
   "metadata": {},
   "source": [
    "Visualize how often his tweets invovles different semantic entities"
   ]
  },
  {
   "cell_type": "code",
   "execution_count": 9,
   "metadata": {},
   "outputs": [
    {
     "data": {
      "text/plain": [
       "<matplotlib.axes._subplots.AxesSubplot at 0x1e27dce0148>"
      ]
     },
     "execution_count": 9,
     "metadata": {},
     "output_type": "execute_result"
    },
    {
     "data": {
      "image/png": "[encoded data removed]",
      "text/plain": [
       "<Figure size 432x288 with 1 Axes>"
      ]
     },
     "metadata": {
      "needs_background": "light"
     },
     "output_type": "display_data"
    }
   ],
   "source": [
    "sns.countplot(y=\"Label\",data=data)"
   ]
  },
  {
   "cell_type": "code",
   "execution_count": 11,
   "metadata": {},
   "outputs": [],
   "source": [
    "temp = data.groupby(\"Label\").Entity.value_counts()"
   ]
  },
  {
   "cell_type": "code",
   "execution_count": 12,
   "metadata": {},
   "outputs": [
    {
     "data": {
      "text/plain": [
       "Label     Entity\n",
       "CARDINAL  2         35.0\n",
       "MONEY     2          4.0\n",
       "Name: Entity, dtype: float64"
      ]
     },
     "execution_count": 12,
     "metadata": {},
     "output_type": "execute_result"
    }
   ],
   "source": [
    "cardinal = temp.where(temp[\"CARDINAL\"]==temp[\"CARDINAL\"].max())\n",
    "cardinal.dropna()"
   ]
  },
  {
   "cell_type": "code",
   "execution_count": 13,
   "metadata": {},
   "outputs": [
    {
     "data": {
      "text/plain": [
       "Label    Entity \n",
       "NORP     Hoosier    19.0\n",
       "ORG      Hoosier     5.0\n",
       "PERSON   Hoosier    80.0\n",
       "PRODUCT  Hoosier    11.0\n",
       "Name: Entity, dtype: float64"
      ]
     },
     "execution_count": 13,
     "metadata": {},
     "output_type": "execute_result"
    }
   ],
   "source": [
    "person = temp.where(temp[\"PERSON\"]==temp[\"PERSON\"].max())\n",
    "person.dropna()"
   ]
  },
  {
   "cell_type": "code",
   "execution_count": 14,
   "metadata": {},
   "outputs": [
    {
     "data": {
      "text/plain": [
       "Label  Entity   \n",
       "ORG    RT @INDOT    72.0\n",
       "Name: Entity, dtype: float64"
      ]
     },
     "execution_count": 14,
     "metadata": {},
     "output_type": "execute_result"
    }
   ],
   "source": [
    "org = temp.where(temp[\"ORG\"]==temp[\"ORG\"].max())\n",
    "org.dropna()"
   ]
  },
  {
   "cell_type": "code",
   "execution_count": 15,
   "metadata": {},
   "outputs": [
    {
     "data": {
      "text/plain": [
       "Label  Entity\n",
       "NORP   Syrian    22.0\n",
       "Name: Entity, dtype: float64"
      ]
     },
     "execution_count": 15,
     "metadata": {},
     "output_type": "execute_result"
    }
   ],
   "source": [
    "NORP = temp.where(temp[\"NORP\"]==temp[\"NORP\"].max())\n",
    "NORP.dropna()"
   ]
  },
  {
   "cell_type": "code",
   "execution_count": 16,
   "metadata": {},
   "outputs": [
    {
     "data": {
      "text/plain": [
       "Label   Entity \n",
       "GPE     Indiana    618.0\n",
       "MONEY   Indiana      1.0\n",
       "PERSON  Indiana      4.0\n",
       "Name: Entity, dtype: float64"
      ]
     },
     "execution_count": 16,
     "metadata": {},
     "output_type": "execute_result"
    }
   ],
   "source": [
    "GPE = temp.where(temp[\"GPE\"]==temp[\"GPE\"].max())\n",
    "GPE.dropna()"
   ]
  },
  {
   "cell_type": "code",
   "execution_count": 17,
   "metadata": {},
   "outputs": [
    {
     "data": {
      "text/plain": [
       "Label   Entity       \n",
       "MONEY   $1 billion       7.0\n",
       "        RoadsMeanJobs    7.0\n",
       "PERSON  RoadsMeanJobs    8.0\n",
       "Name: Entity, dtype: float64"
      ]
     },
     "execution_count": 17,
     "metadata": {},
     "output_type": "execute_result"
    }
   ],
   "source": [
    "money = temp.where(temp[\"MONEY\"]==temp[\"MONEY\"].max())\n",
    "money.dropna()"
   ]
  },
  {
   "cell_type": "markdown",
   "metadata": {},
   "source": [
    "Most frequently tweeted about Entities"
   ]
  },
  {
   "cell_type": "code",
   "execution_count": 20,
   "metadata": {},
   "outputs": [
    {
     "data": {
      "text/plain": [
       "NEWS                20\n",
       "4th                 21\n",
       "Syrian              22\n",
       "1                   22\n",
       "1st                 23\n",
       "one                 23\n",
       "Congrats            24\n",
       "annual              25\n",
       "House               25\n",
       "U.S.                27\n",
       "2015                28\n",
       "Indianapolis        29\n",
       "ICYMI               32\n",
       "US                  32\n",
       "Statehouse          35\n",
       "tonight             35\n",
       "AStateThatWorks     36\n",
       "2                   39\n",
       "Japan               42\n",
       "this afternoon      42\n",
       "this morning        42\n",
       "2016                52\n",
       "Indy                56\n",
       "first               57\n",
       "Hoosiers            61\n",
       "RT @INDOT           72\n",
       "Today              104\n",
       "Hoosier            115\n",
       "today              194\n",
       "Indiana            623\n",
       "Name: Entity, dtype: int64"
      ]
     },
     "execution_count": 20,
     "metadata": {},
     "output_type": "execute_result"
    }
   ],
   "source": [
    "data.Entity.value_counts().sort_values().tail(30)"
   ]
  },
  {
   "cell_type": "code",
   "execution_count": null,
   "metadata": {},
   "outputs": [],
   "source": []
  },
  {
   "cell_type": "code",
   "execution_count": null,
   "metadata": {},
   "outputs": [],
   "source": []
  },
  {
   "cell_type": "code",
   "execution_count": null,
   "metadata": {},
   "outputs": [],
   "source": []
  },
  {
   "cell_type": "code",
   "execution_count": null,
   "metadata": {},
   "outputs": [],
   "source": []
  }
 ],
 "metadata": {
  "kernelspec": {
   "display_name": "Python 3",
   "language": "python",
   "name": "python3"
  },
  "language_info": {
   "codemirror_mode": {
    "name": "ipython",
    "version": 3
   },
   "file_extension": ".py",
   "mimetype": "text/x-python",
   "name": "python",
   "nbconvert_exporter": "python",
   "pygments_lexer": "ipython3",
   "version": "3.7.7"
  }
 },
 "nbformat": 4,
 "nbformat_minor": 4
}
